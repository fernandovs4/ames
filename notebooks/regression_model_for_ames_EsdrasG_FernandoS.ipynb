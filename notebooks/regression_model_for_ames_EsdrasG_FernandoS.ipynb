{
 "cells": [
  {
   "attachments": {},
   "cell_type": "markdown",
   "metadata": {},
   "source": [
    "# Exploratory Analysis of the Ames dataset"
   ]
  },
  {
   "cell_type": "markdown",
   "metadata": {},
   "source": [
    "Discentes: Esdras G. Carvalho e Fernando V. dos Santos"
   ]
  },
  {
   "cell_type": "markdown",
   "metadata": {},
   "source": [
    "As primeiras duas seções desse documento se referem ao download automatizado dos dados, seguido do preprocessamento e feature enginerring. Elas foram retiradas do material do professor, na íntegra e retirados alguns comentários e plots para diminuir a poluição visual."
   ]
  },
  {
   "cell_type": "markdown",
   "metadata": {},
   "source": [
    "### Seção 1"
   ]
  },
  {
   "cell_type": "code",
   "execution_count": null,
   "metadata": {},
   "outputs": [],
   "source": [
    "import pathlib\n",
    "import pickle\n",
    "import requests\n",
    "import pandas as pd\n",
    "import seaborn as sns\n",
    "import matplotlib.pyplot as plt\n",
    "import numpy as np\n"
   ]
  },
  {
   "cell_type": "code",
   "execution_count": null,
   "metadata": {},
   "outputs": [],
   "source": [
    "np.random.seed(42)\n"
   ]
  },
  {
   "cell_type": "markdown",
   "metadata": {},
   "source": [
    "Primeiramente será realizado o download automatizado do dataset, caso o mesmo não esteja presente no diretório de trabalho."
   ]
  },
  {
   "cell_type": "code",
   "execution_count": null,
   "metadata": {},
   "outputs": [],
   "source": [
    "DATA_DIR = pathlib.Path.cwd().parent / 'data'\n",
    "DATA_DIR.mkdir(parents=True, exist_ok=True)\n",
    "raw_data_dir = DATA_DIR / 'raw'\n",
    "raw_data_dir.mkdir(parents=True, exist_ok=True)\n",
    "raw_data_file_path = DATA_DIR / 'raw' / 'ames.csv'\n",
    "if not raw_data_file_path.exists():\n",
    "    source_url = 'https://www.openintro.org/book/statdata/ames.csv'\n",
    "    headers = {\n",
    "        'User-Agent': \\\n",
    "            'Mozilla/5.0 (Macintosh; Intel Mac OS X 10_10_1) ' \\\n",
    "            'AppleWebKit/537.36 (KHTML, like Gecko) ' \\\n",
    "            'Chrome/39.0.2171.95 Safari/537.36',\n",
    "    }\n",
    "    response = requests.get(source_url, headers=headers)\n",
    "    csv_content = response.content.decode()\n",
    "    with open(raw_data_file_path, 'w', encoding='utf8') as file:\n",
    "        file.write(csv_content)\n",
    "\n",
    "filesize = raw_data_file_path.stat().st_size\n",
    "print(f'This file has {filesize} bytes')"
   ]
  },
  {
   "cell_type": "markdown",
   "metadata": {},
   "source": [
    "Em seguida é realizado uma categorização dos atributos, para que seja possível uma melhor análise dos dados e preprocessamento."
   ]
  },
  {
   "cell_type": "code",
   "execution_count": null,
   "metadata": {},
   "outputs": [],
   "source": [
    "raw_data = pd.read_csv(raw_data_file_path)\n",
    "data = raw_data.copy()\n"
   ]
  },
  {
   "cell_type": "code",
   "execution_count": null,
   "metadata": {},
   "outputs": [],
   "source": [
    "ignore_variables = [\n",
    "    'Order',\n",
    "    'PID',\n",
    "]\n",
    "\n",
    "continuous_variables = [\n",
    "    'Lot.Frontage',\n",
    "    'Lot.Area',\n",
    "    'Mas.Vnr.Area',\n",
    "    'BsmtFin.SF.1',\n",
    "    'BsmtFin.SF.2',\n",
    "    'Bsmt.Unf.SF',\n",
    "    'Total.Bsmt.SF',\n",
    "    'X1st.Flr.SF',\n",
    "    'X2nd.Flr.SF',\n",
    "    'Low.Qual.Fin.SF',\n",
    "    'Gr.Liv.Area',\n",
    "    'Garage.Area',\n",
    "    'Wood.Deck.SF',\n",
    "    'Open.Porch.SF',\n",
    "    'Enclosed.Porch',\n",
    "    'X3Ssn.Porch',\n",
    "    'Screen.Porch',\n",
    "    'Pool.Area',\n",
    "    'Misc.Val',\n",
    "    'SalePrice',\n",
    "]\n",
    "\n",
    "discrete_variables = [\n",
    "    'Year.Built',\n",
    "    'Year.Remod.Add',\n",
    "    'Bsmt.Full.Bath',\n",
    "    'Bsmt.Half.Bath',\n",
    "    'Full.Bath',\n",
    "    'Half.Bath',\n",
    "    'Bedroom.AbvGr',\n",
    "    'Kitchen.AbvGr',\n",
    "    'TotRms.AbvGrd',\n",
    "    'Fireplaces',\n",
    "    'Garage.Yr.Blt',\n",
    "    'Garage.Cars',\n",
    "    'Mo.Sold',\n",
    "    'Yr.Sold',\n",
    "]\n",
    "\n",
    "ordinal_variables = [\n",
    "    'Lot.Shape',\n",
    "    'Utilities',\n",
    "    'Land.Slope',\n",
    "    'Overall.Qual',\n",
    "    'Overall.Cond',\n",
    "    'Exter.Qual',\n",
    "    'Exter.Cond',\n",
    "    'Bsmt.Qual',\n",
    "    'Bsmt.Cond',\n",
    "    'Bsmt.Exposure',\n",
    "    'BsmtFin.Type.1',\n",
    "    'BsmtFin.Type.2',\n",
    "    'Heating.QC',\n",
    "    'Electrical',\n",
    "    'Kitchen.Qual',\n",
    "    'Functional',\n",
    "    'Fireplace.Qu',\n",
    "    'Garage.Finish',\n",
    "    'Garage.Qual',\n",
    "    'Garage.Cond',\n",
    "    'Paved.Drive',\n",
    "    'Pool.QC',\n",
    "    'Fence',\n",
    "]\n",
    "\n",
    "categorical_variables = [\n",
    "    'MS.SubClass',\n",
    "    'MS.Zoning',\n",
    "    'Street',\n",
    "    'Alley',\n",
    "    'Land.Contour',\n",
    "    'Lot.Config',\n",
    "    'Neighborhood',\n",
    "    'Condition.1',\n",
    "    'Condition.2',\n",
    "    'Bldg.Type',\n",
    "    'House.Style',\n",
    "    'Roof.Style',\n",
    "    'Roof.Matl',\n",
    "    'Exterior.1st',\n",
    "    'Exterior.2nd',\n",
    "    'Mas.Vnr.Type',\n",
    "    'Foundation',\n",
    "    'Heating',\n",
    "    'Central.Air',\n",
    "    'Garage.Type',\n",
    "    'Misc.Feature',\n",
    "    'Sale.Type',\n",
    "    'Sale.Condition',\n",
    "]"
   ]
  },
  {
   "cell_type": "code",
   "execution_count": null,
   "metadata": {},
   "outputs": [],
   "source": [
    "data.drop(columns=['Order', 'PID'], inplace=True)\n",
    "for col in continuous_variables:\n",
    "    data[col] = data[col].astype('float64')\n",
    "for col in categorical_variables:\n",
    "    data[col] = data[col].astype('category')\n",
    "\n",
    "for col in discrete_variables:\n",
    "    data[col] = data[col].astype('float64')"
   ]
  },
  {
   "cell_type": "code",
   "execution_count": null,
   "metadata": {},
   "outputs": [],
   "source": [
    "category_orderings = {\n",
    "    'Lot.Shape': [\n",
    "        'Reg',\n",
    "        'IR1',\n",
    "        'IR2',\n",
    "        'IR3',\n",
    "    ],\n",
    "    'Utilities': [\n",
    "        'AllPub',\n",
    "        'NoSewr',\n",
    "        'NoSeWa',\n",
    "        'ELO',\n",
    "    ],\n",
    "    'Land.Slope': [\n",
    "        'Gtl',\n",
    "        'Mod',\n",
    "        'Sev',\n",
    "    ],\n",
    "    'Overall.Qual': [\n",
    "        1,\n",
    "        2,\n",
    "        3,\n",
    "        4,\n",
    "        5,\n",
    "        6,\n",
    "        7,\n",
    "        8,\n",
    "        9,\n",
    "        10,\n",
    "    ],\n",
    "    'Overall.Cond': [\n",
    "        1,\n",
    "        2,\n",
    "        3,\n",
    "        4,\n",
    "        5,\n",
    "        6,\n",
    "        7,\n",
    "        8,\n",
    "        9,\n",
    "        10,\n",
    "    ],\n",
    "    'Exter.Qual': [\n",
    "        'Ex',\n",
    "        'Gd',\n",
    "        'TA',\n",
    "        'Fa',\n",
    "        'Po',\n",
    "    ],\n",
    "    'Exter.Cond': [\n",
    "        'Ex',\n",
    "        'Gd',\n",
    "        'TA',\n",
    "        'Fa',\n",
    "        'Po',\n",
    "    ],\n",
    "    'Bsmt.Qual': [\n",
    "        'Ex',\n",
    "        'Gd',\n",
    "        'TA',\n",
    "        'Fa',\n",
    "        'Po',\n",
    "    ],\n",
    "    'Bsmt.Cond': [\n",
    "        'Ex',\n",
    "        'Gd',\n",
    "        'TA',\n",
    "        'Fa',\n",
    "        'Po',\n",
    "    ],\n",
    "    'Bsmt.Exposure': [\n",
    "        'Gd',\n",
    "        'Av',\n",
    "        'Mn',\n",
    "        'No',\n",
    "        'NA',\n",
    "    ],\n",
    "    'BsmtFin.Type.1': [\n",
    "        'GLQ',\n",
    "        'ALQ',\n",
    "        'BLQ',\n",
    "        'Rec',\n",
    "        'LwQ',\n",
    "        'Unf',\n",
    "    ],\n",
    "    'BsmtFin.Type.2': [\n",
    "        'GLQ',\n",
    "        'ALQ',\n",
    "        'BLQ',\n",
    "        'Rec',\n",
    "        'LwQ',\n",
    "        'Unf',\n",
    "    ],\n",
    "    'Heating.QC': [\n",
    "        'Ex',\n",
    "        'Gd',\n",
    "        'TA',\n",
    "        'Fa',\n",
    "        'Po',\n",
    "    ],\n",
    "    'Electrical': [\n",
    "        'SBrkr',\n",
    "        'FuseA',\n",
    "        'FuseF',\n",
    "        'FuseP',\n",
    "        'Mix',\n",
    "    ],\n",
    "    'Kitchen.Qual': [\n",
    "        'Ex',\n",
    "        'Gd',\n",
    "        'TA',\n",
    "        'Fa',\n",
    "        'Po',\n",
    "    ],\n",
    "    'Functional': [\n",
    "        'Typ',\n",
    "        'Min1',\n",
    "        'Min2',\n",
    "        'Mod',\n",
    "        'Maj1',\n",
    "        'Maj2',\n",
    "        'Sev',\n",
    "        'Sal',\n",
    "    ],\n",
    "    'Fireplace.Qu': [\n",
    "        'Ex',\n",
    "        'Gd',\n",
    "        'TA',\n",
    "        'Fa',\n",
    "        'Po',\n",
    "    ],\n",
    "    'Garage.Finish': [\n",
    "        'Fin',\n",
    "        'RFn',\n",
    "        'Unf',\n",
    "    ],\n",
    "    'Garage.Qual': [\n",
    "        'Ex',\n",
    "        'Gd',\n",
    "        'TA',\n",
    "        'Fa',\n",
    "        'Po',\n",
    "    ],\n",
    "    'Garage.Cond': [\n",
    "        'Ex',\n",
    "        'Gd',\n",
    "        'TA',\n",
    "        'Fa',\n",
    "        'Po',    \n",
    "    ],\n",
    "    'Paved.Drive': [\n",
    "        'Y',\n",
    "        'P',\n",
    "        'N',\n",
    "    ],\n",
    "    'Pool.QC': [\n",
    "        'Ex',\n",
    "        'Gd',\n",
    "        'TA',\n",
    "        'Fa',\n",
    "    ],\n",
    "    'Fence': [\n",
    "        'GdPrv',\n",
    "        'MnPrv',\n",
    "        'GdWo',\n",
    "        'MnWw',\n",
    "    ],\n",
    "}\n"
   ]
  },
  {
   "cell_type": "code",
   "execution_count": null,
   "metadata": {},
   "outputs": [],
   "source": [
    "for col, orderings in category_orderings.items():\n",
    "    data[col] = data[col] \\\n",
    "        .astype('category') \\\n",
    "        .cat \\\n",
    "        .set_categories(orderings, ordered=True)"
   ]
  },
  {
   "cell_type": "markdown",
   "metadata": {},
   "source": [
    "Salvar os dados preprocessados em um arquivo csv para que possa ser utilizado em outros notebooks."
   ]
  },
  {
   "cell_type": "code",
   "execution_count": null,
   "metadata": {},
   "outputs": [],
   "source": [
    "processed_dir = DATA_DIR / 'processed'\n",
    "processed_dir.mkdir(parents=True, exist_ok=True)\n",
    "processed_file_path = processed_dir / 'ames_with_correct_types.pkl'\n",
    "with open(processed_file_path, 'wb') as file:\n",
    "    pickle.dump(\n",
    "        [\n",
    "            data,\n",
    "            continuous_variables,\n",
    "            discrete_variables,\n",
    "            ordinal_variables,\n",
    "            categorical_variables,\n",
    "        ],\n",
    "        file,\n",
    "    )\n"
   ]
  },
  {
   "cell_type": "markdown",
   "metadata": {},
   "source": [
    "### Seção 2"
   ]
  },
  {
   "cell_type": "code",
   "execution_count": null,
   "metadata": {},
   "outputs": [],
   "source": [
    "pd.set_option('display.max_rows', 500)"
   ]
  },
  {
   "cell_type": "code",
   "execution_count": null,
   "metadata": {},
   "outputs": [],
   "source": [
    "DATA_DIR = pathlib.Path.cwd().parent / 'data'\n"
   ]
  },
  {
   "attachments": {},
   "cell_type": "markdown",
   "metadata": {},
   "source": [
    "## Analyzing the columns individually"
   ]
  },
  {
   "attachments": {},
   "cell_type": "markdown",
   "metadata": {},
   "source": [
    "Let's load the data from the previous section - this way we don't need to re-run all of the previous data adjusting:"
   ]
  },
  {
   "cell_type": "code",
   "execution_count": null,
   "metadata": {},
   "outputs": [],
   "source": [
    "processed_file_path = DATA_DIR / 'processed' / 'ames_with_correct_types.pkl'\n",
    "\n",
    "with open(processed_file_path, 'rb') as file:\n",
    "    (\n",
    "        data,\n",
    "        continuous_variables,\n",
    "        discrete_variables,\n",
    "        ordinal_variables,\n",
    "        categorical_variables,\n",
    "    ) = pickle.load(file)\n"
   ]
  },
  {
   "attachments": {},
   "cell_type": "markdown",
   "metadata": {},
   "source": [
    "### A first look at the categorical variables"
   ]
  },
  {
   "cell_type": "code",
   "execution_count": null,
   "metadata": {},
   "outputs": [],
   "source": [
    "def plot_categoricals(data, cols, sorted=True):\n",
    "    summary = data[cols] \\\n",
    "        .describe() \\\n",
    "        .transpose() \\\n",
    "        .sort_values(by='count')\n",
    "\n",
    "    print(summary)\n",
    "\n",
    "    for k, (col, val) in enumerate(summary['count'].items()):\n",
    "        plt.figure()\n",
    "        ser = data[col].value_counts()\n",
    "        if sorted:\n",
    "            ser = ser.sort_values()\n",
    "        else:\n",
    "            ser = ser.sort_index()\n",
    "        ax = ser.plot.barh()\n",
    "        for container in ax.containers:\n",
    "            ax.bar_label(container)\n",
    "        plt.title(f'{col}, n={int(val)}')\n",
    "        plt.show()"
   ]
  },
  {
   "cell_type": "code",
   "execution_count": null,
   "metadata": {},
   "outputs": [],
   "source": [
    "# plot_categoricals(data, categorical_variables)"
   ]
  },
  {
   "attachments": {},
   "cell_type": "markdown",
   "metadata": {},
   "source": [
    "It is important to notice:\n",
    "\n",
    "- There are variables that have many categories with little representation. \n",
    "    - It may be interesting to remove the minor categories, and make a note that the model that we are developing is not suitable to process houses of these categories. \n",
    "    - Or we may decide to ignore columns of this nature altogether.\n",
    "    - A third option is to group the minor categories into a new category named `Other`, to indicate that we are not ignoring these properties, but we don't have enough evidence to infer the effect of the precise minor categories into the sale price.\n",
    "- Some variables contain a great number of missing values. \n",
    "    - It may be better to drop those columns,\n",
    "    - or to assign all missing values to a newly created `Unknown` category\n",
    "\n"
   ]
  },
  {
   "attachments": {},
   "cell_type": "markdown",
   "metadata": {},
   "source": [
    "In order to simplify the data (CAREFUL: we may end up damaging the model here! If the future model is not performing well, it could be interesting to revisit these assumptions), we will process each variable, remove outliers, etc."
   ]
  },
  {
   "attachments": {},
   "cell_type": "markdown",
   "metadata": {},
   "source": [
    "#### Residential zoning, sales types and conditions (`MS.Zoning`, `Sale.Type`, and `Sale.Condition`)"
   ]
  },
  {
   "attachments": {},
   "cell_type": "markdown",
   "metadata": {},
   "source": [
    "Lets concentrate first on residential sales types:"
   ]
  },
  {
   "cell_type": "code",
   "execution_count": null,
   "metadata": {},
   "outputs": [],
   "source": [
    "data['MS.Zoning'].unique()"
   ]
  },
  {
   "cell_type": "code",
   "execution_count": null,
   "metadata": {},
   "outputs": [],
   "source": [
    "data['MS.Zoning'].value_counts()"
   ]
  },
  {
   "attachments": {},
   "cell_type": "markdown",
   "metadata": {},
   "source": [
    "We observe that a small number of sales are for non-residential properties, namely the categories `C (all)`, `A (agr)`, and `I (all)`. Let's remove them."
   ]
  },
  {
   "cell_type": "code",
   "execution_count": null,
   "metadata": {},
   "outputs": [],
   "source": [
    "selection = ~(data['MS.Zoning'].isin(['A (agr)', 'C (all)', 'I (all)']))\n",
    "selection.value_counts()"
   ]
  },
  {
   "attachments": {},
   "cell_type": "markdown",
   "metadata": {},
   "source": [
    "So far, so good."
   ]
  },
  {
   "cell_type": "code",
   "execution_count": null,
   "metadata": {},
   "outputs": [],
   "source": [
    "data = data[selection]"
   ]
  },
  {
   "attachments": {},
   "cell_type": "markdown",
   "metadata": {},
   "source": [
    "After removing those undesired rows, lets remove the unused categories"
   ]
  },
  {
   "cell_type": "code",
   "execution_count": null,
   "metadata": {},
   "outputs": [],
   "source": [
    "data['MS.Zoning'] = data['MS.Zoning'].cat.remove_unused_categories()"
   ]
  },
  {
   "cell_type": "code",
   "execution_count": null,
   "metadata": {},
   "outputs": [],
   "source": [
    "data['Sale.Type'].unique()"
   ]
  },
  {
   "attachments": {},
   "cell_type": "markdown",
   "metadata": {},
   "source": [
    "*AHA!* Careful with the name of the categories! The category `\"WD \"` has a space in it! Too many hours were spent debugging this kind of thing."
   ]
  },
  {
   "cell_type": "code",
   "execution_count": null,
   "metadata": {},
   "outputs": [],
   "source": [
    "data['Sale.Condition'].value_counts()"
   ]
  },
  {
   "attachments": {},
   "cell_type": "markdown",
   "metadata": {},
   "source": [
    "Upon careful analysis, looks like all types of sales and conditions are valid. But we need to be careful with the low representativity of some categories in both `Sale.Type` and `Sale.Condition`. Let's do some category reassigning:\n",
    "\n",
    "- All warranty deed types will go into a `GroupedWD` category;\n",
    "- Category `New` stays as-is.\n",
    "- All the remaining minor categories go into an `Other` category."
   ]
  },
  {
   "cell_type": "code",
   "execution_count": null,
   "metadata": {},
   "outputs": [],
   "source": [
    "processed_data = data.copy()"
   ]
  },
  {
   "cell_type": "code",
   "execution_count": null,
   "metadata": {},
   "outputs": [],
   "source": [
    "from typing import Tuple\n",
    "\n",
    "def remap_categories(\n",
    "    series: pd.Series,\n",
    "    old_categories: Tuple[str],\n",
    "    new_category: str,\n",
    ") -> pd.Series:\n",
    "    # Add the new category to the list of valid categories.\n",
    "    series = series.cat.add_categories(new_category)\n",
    "\n",
    "    # Set all items of the old categories as the new category.\n",
    "    remapped_items = series.isin(old_categories)\n",
    "    series.loc[remapped_items] = new_category\n",
    "\n",
    "    # Clean up the list of categories, the old categories no longer exist.\n",
    "    series = series.cat.remove_unused_categories()\n",
    "\n",
    "    return series\n"
   ]
  },
  {
   "cell_type": "code",
   "execution_count": null,
   "metadata": {},
   "outputs": [],
   "source": [
    "processed_data['Sale.Type'] = remap_categories(\n",
    "    series=processed_data['Sale.Type'],\n",
    "    old_categories=('WD ', 'CWD', 'VWD'),\n",
    "    new_category='GroupedWD',\n",
    ")\n",
    "\n",
    "processed_data['Sale.Type'] = remap_categories(\n",
    "    series=processed_data['Sale.Type'],\n",
    "    old_categories=('COD', 'ConLI', 'Con', 'ConLD', 'Oth', 'ConLw'),\n",
    "    new_category='Other',\n",
    ")"
   ]
  },
  {
   "cell_type": "code",
   "execution_count": null,
   "metadata": {},
   "outputs": [],
   "source": [
    "processed_data['Sale.Type'].value_counts()"
   ]
  },
  {
   "attachments": {},
   "cell_type": "markdown",
   "metadata": {},
   "source": [
    "Much better!"
   ]
  },
  {
   "cell_type": "code",
   "execution_count": null,
   "metadata": {},
   "outputs": [],
   "source": [
    "data = processed_data"
   ]
  },
  {
   "cell_type": "markdown",
   "metadata": {},
   "source": [
    "#### Street paving (`Street`)"
   ]
  },
  {
   "attachments": {},
   "cell_type": "markdown",
   "metadata": {},
   "source": [
    "Now lets focus on street paving (`Street`):"
   ]
  },
  {
   "cell_type": "code",
   "execution_count": null,
   "metadata": {},
   "outputs": [],
   "source": [
    "data['Street'].value_counts()"
   ]
  },
  {
   "attachments": {},
   "cell_type": "markdown",
   "metadata": {},
   "source": [
    "The very low representativity of the minor class `Grvl` forces us to ignore this column altogether:"
   ]
  },
  {
   "cell_type": "code",
   "execution_count": null,
   "metadata": {},
   "outputs": [],
   "source": [
    "data = data.drop(columns='Street')"
   ]
  },
  {
   "attachments": {},
   "cell_type": "markdown",
   "metadata": {},
   "source": [
    "#### House surroundings (`Condition.1` and `Condition.2`)"
   ]
  },
  {
   "attachments": {},
   "cell_type": "markdown",
   "metadata": {},
   "source": [
    "Let's check for conditions (`Condition.1` and `Condition.2`) pertaining to the house surroundings:"
   ]
  },
  {
   "cell_type": "code",
   "execution_count": null,
   "metadata": {},
   "outputs": [],
   "source": [
    "data['Condition.1'].value_counts()"
   ]
  },
  {
   "cell_type": "code",
   "execution_count": null,
   "metadata": {},
   "outputs": [],
   "source": [
    "data['Condition.2'].value_counts()"
   ]
  },
  {
   "cell_type": "code",
   "execution_count": null,
   "metadata": {},
   "outputs": [],
   "source": [
    "pd.crosstab(data['Condition.1'], data['Condition.2'])"
   ]
  },
  {
   "cell_type": "code",
   "execution_count": null,
   "metadata": {},
   "outputs": [],
   "source": [
    "processed_data = data.copy()"
   ]
  },
  {
   "cell_type": "code",
   "execution_count": null,
   "metadata": {},
   "outputs": [],
   "source": [
    "for col in ('Condition.1', 'Condition.2'):\n",
    "    processed_data[col] = remap_categories(\n",
    "        series=processed_data[col],\n",
    "        old_categories=('RRAn', 'RRAe', 'RRNn', 'RRNe'),\n",
    "        new_category='Railroad',\n",
    "    )\n",
    "    processed_data[col] = remap_categories(\n",
    "        series=processed_data[col],\n",
    "        old_categories=('Feedr', 'Artery'),\n",
    "        new_category='Roads',\n",
    "    )\n",
    "    processed_data[col] = remap_categories(\n",
    "        series=processed_data[col],\n",
    "        old_categories=('PosA', 'PosN'),\n",
    "        new_category='Positive',\n",
    "    )"
   ]
  },
  {
   "cell_type": "code",
   "execution_count": null,
   "metadata": {},
   "outputs": [],
   "source": [
    "processed_data['Condition.1'].value_counts()"
   ]
  },
  {
   "cell_type": "code",
   "execution_count": null,
   "metadata": {},
   "outputs": [],
   "source": [
    "processed_data['Condition.2'].value_counts()"
   ]
  },
  {
   "cell_type": "code",
   "execution_count": null,
   "metadata": {},
   "outputs": [],
   "source": [
    "pd.crosstab(processed_data['Condition.1'], processed_data['Condition.2'])"
   ]
  },
  {
   "cell_type": "code",
   "execution_count": null,
   "metadata": {},
   "outputs": [],
   "source": [
    "processed_data['Condition'] = pd.Series(\n",
    "    index=processed_data.index,\n",
    "    dtype=pd.CategoricalDtype(categories=(\n",
    "        'Norm',\n",
    "        'Railroad',\n",
    "        'Roads',\n",
    "        'Positive',\n",
    "        'RoadsAndRailroad',\n",
    "    )),\n",
    ")"
   ]
  },
  {
   "cell_type": "code",
   "execution_count": null,
   "metadata": {},
   "outputs": [],
   "source": [
    "norm_items = processed_data['Condition.1'] == 'Norm'\n",
    "processed_data['Condition'][norm_items] = 'Norm'"
   ]
  },
  {
   "cell_type": "code",
   "execution_count": null,
   "metadata": {},
   "outputs": [],
   "source": [
    "railroad_items = \\\n",
    "    (processed_data['Condition.1'] == 'Railroad') \\\n",
    "    & (processed_data['Condition.2'] == 'Norm')\n",
    "processed_data['Condition'][railroad_items] = 'Railroad'"
   ]
  },
  {
   "cell_type": "code",
   "execution_count": null,
   "metadata": {},
   "outputs": [],
   "source": [
    "roads_items = \\\n",
    "    (processed_data['Condition.1'] == 'Roads') \\\n",
    "    & (processed_data['Condition.2'] != 'Railroad')\n",
    "processed_data['Condition'][roads_items] = 'Roads'"
   ]
  },
  {
   "cell_type": "code",
   "execution_count": null,
   "metadata": {},
   "outputs": [],
   "source": [
    "positive_items = processed_data['Condition.1'] == 'Positive'\n",
    "processed_data['Condition'][positive_items] = 'Positive'"
   ]
  },
  {
   "cell_type": "code",
   "execution_count": null,
   "metadata": {},
   "outputs": [],
   "source": [
    "roads_and_railroad_items = \\\n",
    "    ( \\\n",
    "        (processed_data['Condition.1'] == 'Railroad') \\\n",
    "        & (processed_data['Condition.2'] == 'Roads')\n",
    "    ) \\\n",
    "    | ( \\\n",
    "        (processed_data['Condition.1'] == 'Roads') \\\n",
    "        & (processed_data['Condition.2'] == 'Railroad') \\\n",
    "    )\n",
    "processed_data['Condition'][roads_and_railroad_items] = 'RoadsAndRailroad'"
   ]
  },
  {
   "cell_type": "code",
   "execution_count": null,
   "metadata": {},
   "outputs": [],
   "source": [
    "processed_data['Condition'].value_counts()"
   ]
  },
  {
   "attachments": {},
   "cell_type": "markdown",
   "metadata": {},
   "source": [
    "There is no apparent need, for now, to go into further simplification of this variable. Lets drop the original variables:"
   ]
  },
  {
   "cell_type": "code",
   "execution_count": null,
   "metadata": {},
   "outputs": [],
   "source": [
    "processed_data = processed_data.drop(columns=['Condition.1', 'Condition.2'])"
   ]
  },
  {
   "cell_type": "code",
   "execution_count": null,
   "metadata": {},
   "outputs": [],
   "source": [
    "data = processed_data"
   ]
  },
  {
   "attachments": {},
   "cell_type": "markdown",
   "metadata": {},
   "source": [
    "#### Columns with many missing values (`Misc.Feature` and `Alley`)"
   ]
  },
  {
   "attachments": {},
   "cell_type": "markdown",
   "metadata": {},
   "source": [
    "The columns `Misc.Feature` and `Alley` are mostly formed by missing values!"
   ]
  },
  {
   "cell_type": "code",
   "execution_count": null,
   "metadata": {},
   "outputs": [],
   "source": [
    "plot_categoricals(data, ['Misc.Feature', 'Alley'])"
   ]
  },
  {
   "attachments": {},
   "cell_type": "markdown",
   "metadata": {},
   "source": [
    "But it looks like we can reuse this information, still. We can transform the `Misc.Feature` variable into a `HasShed` variable that indicates whether the house has a shed:"
   ]
  },
  {
   "cell_type": "code",
   "execution_count": null,
   "metadata": {},
   "outputs": [],
   "source": [
    "data['HasShed'] = data['Misc.Feature'] == 'Shed'\n",
    "data = data.drop(columns='Misc.Feature')"
   ]
  },
  {
   "cell_type": "code",
   "execution_count": null,
   "metadata": {},
   "outputs": [],
   "source": [
    "data['HasShed'].value_counts()"
   ]
  },
  {
   "attachments": {},
   "cell_type": "markdown",
   "metadata": {},
   "source": [
    "Likewise, we can mutate the `Alley` feature into a `HasAlley` feature:"
   ]
  },
  {
   "cell_type": "code",
   "execution_count": null,
   "metadata": {},
   "outputs": [],
   "source": [
    "data['HasAlley'] = ~data['Alley'].isna()\n",
    "data = data.drop(columns='Alley')"
   ]
  },
  {
   "cell_type": "code",
   "execution_count": null,
   "metadata": {},
   "outputs": [],
   "source": [
    "data['HasAlley'].value_counts()"
   ]
  },
  {
   "attachments": {},
   "cell_type": "markdown",
   "metadata": {},
   "source": [
    "#### Exterior coverings (`Exterior.1st` and `Exterior.2nd`)"
   ]
  },
  {
   "attachments": {},
   "cell_type": "markdown",
   "metadata": {},
   "source": [
    "The exterior coverings have a lot of categories, some with very low representativity:"
   ]
  },
  {
   "cell_type": "code",
   "execution_count": null,
   "metadata": {},
   "outputs": [],
   "source": [
    "plot_categoricals(data, ['Exterior.1st', 'Exterior.2nd'])"
   ]
  },
  {
   "attachments": {},
   "cell_type": "markdown",
   "metadata": {},
   "source": [
    "Also, it looks like there are a few typos!"
   ]
  },
  {
   "attachments": {},
   "cell_type": "markdown",
   "metadata": {},
   "source": [
    "\n",
    "| `Exterior.1st` | `Exterior.2nd` | `Correct value` |\n",
    "|----------------|----------------|-----------------|\n",
    "| `BrkComm`      | `Brk Cmn`      | `BrkComm`       |\n",
    "| `CemntBd`      | `CmentBd`      | `CemntBd`       |\n",
    "| `WdShing`      | `Wd Shng`      | `WdShing`       |"
   ]
  },
  {
   "attachments": {},
   "cell_type": "markdown",
   "metadata": {},
   "source": [
    "Lets fix those"
   ]
  },
  {
   "cell_type": "code",
   "execution_count": null,
   "metadata": {},
   "outputs": [],
   "source": [
    "data['Exterior.2nd'] = remap_categories(\n",
    "    series=data['Exterior.2nd'],\n",
    "    old_categories=('Brk Cmn', ),\n",
    "    new_category='BrkComm',\n",
    ")\n",
    "data['Exterior.2nd'] = remap_categories(\n",
    "    series=data['Exterior.2nd'],\n",
    "    old_categories=('CmentBd', ),\n",
    "    new_category='CemntBd',\n",
    ")\n",
    "data['Exterior.2nd'] = remap_categories(\n",
    "    series=data['Exterior.2nd'],\n",
    "    old_categories=('Wd Shng', ),\n",
    "    new_category='WdShing',\n",
    ")\n"
   ]
  },
  {
   "cell_type": "code",
   "execution_count": null,
   "metadata": {},
   "outputs": [],
   "source": [
    "for col in ('Exterior.1st', 'Exterior.2nd'):\n",
    "    categories = data[col].cat.categories\n",
    "    data[col] = data[col].cat.reorder_categories(sorted(categories))"
   ]
  },
  {
   "cell_type": "code",
   "execution_count": null,
   "metadata": {},
   "outputs": [],
   "source": [
    "pd.crosstab(data['Exterior.1st'], data['Exterior.2nd'])"
   ]
  },
  {
   "attachments": {},
   "cell_type": "markdown",
   "metadata": {},
   "source": [
    "It looks like there are a few popular options and lots of poorly represented materials beyond the popular ones. Due to lack of representativity, lets keep only the popular categories as-is, and group the rest into an `Other` category.\n",
    "\n",
    "Also, looks like it is often the case that the first material is the same as the second material, probably to indicate that the house exterior contains only one material. Therefore, we will keep only the `Exterior.1st` variable."
   ]
  },
  {
   "cell_type": "code",
   "execution_count": null,
   "metadata": {},
   "outputs": [],
   "source": [
    "processed_data = data.copy()"
   ]
  },
  {
   "cell_type": "code",
   "execution_count": null,
   "metadata": {},
   "outputs": [],
   "source": [
    "mat_count = processed_data['Exterior.1st'].value_counts()\n",
    "mat_count"
   ]
  },
  {
   "cell_type": "code",
   "execution_count": null,
   "metadata": {},
   "outputs": [],
   "source": [
    "rare_materials = list(mat_count[mat_count < 40].index)\n",
    "rare_materials"
   ]
  },
  {
   "cell_type": "code",
   "execution_count": null,
   "metadata": {},
   "outputs": [],
   "source": [
    "processed_data['Exterior'] = remap_categories(\n",
    "    series=processed_data['Exterior.1st'],\n",
    "    old_categories=rare_materials,\n",
    "    new_category='Other',\n",
    ")\n",
    "processed_data = processed_data.drop(columns=['Exterior.1st', 'Exterior.2nd'])"
   ]
  },
  {
   "cell_type": "code",
   "execution_count": null,
   "metadata": {},
   "outputs": [],
   "source": [
    "processed_data['Exterior'].value_counts()"
   ]
  },
  {
   "cell_type": "code",
   "execution_count": null,
   "metadata": {},
   "outputs": [],
   "source": [
    "data = processed_data"
   ]
  },
  {
   "attachments": {},
   "cell_type": "markdown",
   "metadata": {},
   "source": [
    "#### `Heating`"
   ]
  },
  {
   "cell_type": "code",
   "execution_count": null,
   "metadata": {},
   "outputs": [],
   "source": [
    "plot_categoricals(data, ['Heating',])"
   ]
  },
  {
   "attachments": {},
   "cell_type": "markdown",
   "metadata": {},
   "source": [
    "This column does not have missing values, and an overwhelming amount of items belong to the same category. As such, there is not much information here, lets discard the column."
   ]
  },
  {
   "cell_type": "code",
   "execution_count": null,
   "metadata": {},
   "outputs": [],
   "source": [
    "data = data.drop(columns='Heating')"
   ]
  },
  {
   "attachments": {},
   "cell_type": "markdown",
   "metadata": {},
   "source": [
    "#### `Roof.Matl` and `Roof.Style`"
   ]
  },
  {
   "cell_type": "code",
   "execution_count": null,
   "metadata": {},
   "outputs": [],
   "source": [
    "plot_categoricals(data, ['Roof.Matl', 'Roof.Style'])"
   ]
  },
  {
   "attachments": {},
   "cell_type": "markdown",
   "metadata": {},
   "source": [
    "Due to the low representativity of the minor categories in the `Roof.Matl` feature, we will drop it."
   ]
  },
  {
   "cell_type": "code",
   "execution_count": null,
   "metadata": {},
   "outputs": [],
   "source": [
    "data = data.drop(columns='Roof.Matl')"
   ]
  },
  {
   "attachments": {},
   "cell_type": "markdown",
   "metadata": {},
   "source": [
    "In the `Roof.Style` feature we have two substantial categories, and a few very minor ones. Lets group the minor categories into an `Other` category:"
   ]
  },
  {
   "cell_type": "code",
   "execution_count": null,
   "metadata": {},
   "outputs": [],
   "source": [
    "data['Roof.Style'] = remap_categories(\n",
    "    series=data['Roof.Style'],\n",
    "    old_categories=[\n",
    "        'Flat',\n",
    "        'Gambrel',\n",
    "        'Mansard',\n",
    "        'Shed',\n",
    "    ],\n",
    "    new_category='Other',\n",
    ")"
   ]
  },
  {
   "cell_type": "code",
   "execution_count": null,
   "metadata": {},
   "outputs": [],
   "source": [
    "data['Roof.Style'].value_counts()"
   ]
  },
  {
   "attachments": {},
   "cell_type": "markdown",
   "metadata": {},
   "source": [
    "#### `Mas.Vnr.Type`"
   ]
  },
  {
   "cell_type": "code",
   "execution_count": null,
   "metadata": {},
   "outputs": [],
   "source": [
    "data['Mas.Vnr.Type'].info()"
   ]
  },
  {
   "cell_type": "code",
   "execution_count": null,
   "metadata": {},
   "outputs": [],
   "source": [
    "data['Mas.Vnr.Type'].value_counts()"
   ]
  },
  {
   "attachments": {},
   "cell_type": "markdown",
   "metadata": {},
   "source": [
    "Lets group the two minor classes into an `Other` class:"
   ]
  },
  {
   "cell_type": "code",
   "execution_count": null,
   "metadata": {},
   "outputs": [],
   "source": [
    "data['Mas.Vnr.Type'] = remap_categories(\n",
    "    series=data['Mas.Vnr.Type'],\n",
    "    old_categories=[\n",
    "        'BrkCmn',\n",
    "        'CBlock',\n",
    "    ],\n",
    "    new_category='Other',\n",
    ")"
   ]
  },
  {
   "attachments": {},
   "cell_type": "markdown",
   "metadata": {},
   "source": [
    "Also, lets add the missing entries to the `None` category, since we have no evidence of the veneer type here."
   ]
  },
  {
   "cell_type": "code",
   "execution_count": null,
   "metadata": {},
   "outputs": [],
   "source": [
    "data['Mas.Vnr.Type'] = data['Mas.Vnr.Type'].cat.add_categories('None')\n",
    "data['Mas.Vnr.Type'][data['Mas.Vnr.Type'].isna()] = 'None'\n"
   ]
  },
  {
   "cell_type": "code",
   "execution_count": null,
   "metadata": {},
   "outputs": [],
   "source": [
    "data['Mas.Vnr.Type'].value_counts()"
   ]
  },
  {
   "attachments": {},
   "cell_type": "markdown",
   "metadata": {},
   "source": [
    "#### `MS.SubClass`"
   ]
  },
  {
   "cell_type": "code",
   "execution_count": null,
   "metadata": {},
   "outputs": [],
   "source": [
    "plot_categoricals(data, ['MS.SubClass'])"
   ]
  },
  {
   "attachments": {},
   "cell_type": "markdown",
   "metadata": {},
   "source": [
    "This is a complicated feature, lets look at the documentation:\n",
    "\n",
    "```\n",
    "MS SubClass (Nominal): Identifies the type of dwelling involved in the sale.\t\n",
    "\n",
    "       020\t1-STORY 1946 & NEWER ALL STYLES\n",
    "       030\t1-STORY 1945 & OLDER\n",
    "       040\t1-STORY W/FINISHED ATTIC ALL AGES\n",
    "       045\t1-1/2 STORY - UNFINISHED ALL AGES\n",
    "       050\t1-1/2 STORY FINISHED ALL AGES\n",
    "       060\t2-STORY 1946 & NEWER\n",
    "       070\t2-STORY 1945 & OLDER\n",
    "       075\t2-1/2 STORY ALL AGES\n",
    "       080\tSPLIT OR MULTI-LEVEL\n",
    "       085\tSPLIT FOYER\n",
    "       090\tDUPLEX - ALL STYLES AND AGES\n",
    "       120\t1-STORY PUD (Planned Unit Development) - 1946 & NEWER\n",
    "       150\t1-1/2 STORY PUD - ALL AGES\n",
    "       160\t2-STORY PUD - 1946 & NEWER\n",
    "       180\tPUD - MULTILEVEL - INCL SPLIT LEV/FOYER\n",
    "       190\t2 FAMILY CONVERSION - ALL STYLES AND AGES\n",
    "```"
   ]
  },
  {
   "attachments": {},
   "cell_type": "markdown",
   "metadata": {},
   "source": [
    "This is the moment where you reach out to a real-estate agent and ask what is the meaning of these categories, and whether they can they be meaningfully grouped together. For now lets just reassign the minor categories to an `Other` category:"
   ]
  },
  {
   "cell_type": "code",
   "execution_count": null,
   "metadata": {},
   "outputs": [],
   "source": [
    "data['MS.SubClass'] = remap_categories(\n",
    "    series=data['MS.SubClass'],\n",
    "    old_categories=[75, 45, 180, 40, 150],\n",
    "    new_category='Other',\n",
    ")"
   ]
  },
  {
   "cell_type": "code",
   "execution_count": null,
   "metadata": {},
   "outputs": [],
   "source": [
    "data['MS.SubClass'].value_counts()"
   ]
  },
  {
   "attachments": {},
   "cell_type": "markdown",
   "metadata": {},
   "source": [
    "#### `Foundation`"
   ]
  },
  {
   "cell_type": "code",
   "execution_count": null,
   "metadata": {},
   "outputs": [],
   "source": [
    "plot_categoricals(data, ['Foundation'])"
   ]
  },
  {
   "attachments": {},
   "cell_type": "markdown",
   "metadata": {},
   "source": [
    "Same story: minor categories grouped into an `Other` category."
   ]
  },
  {
   "cell_type": "code",
   "execution_count": null,
   "metadata": {},
   "outputs": [],
   "source": [
    "data['Foundation'] = remap_categories(\n",
    "    series=data['Foundation'],\n",
    "    old_categories=['Slab', 'Stone', 'Wood'],\n",
    "    new_category='Other',\n",
    ")"
   ]
  },
  {
   "attachments": {},
   "cell_type": "markdown",
   "metadata": {},
   "source": [
    "#### `Neighborhood`"
   ]
  },
  {
   "cell_type": "code",
   "execution_count": null,
   "metadata": {},
   "outputs": [],
   "source": [
    "data['Neighborhood'].value_counts()"
   ]
  },
  {
   "attachments": {},
   "cell_type": "markdown",
   "metadata": {},
   "source": [
    "We can either group the minor categories into an `Other` category, or drop the rows. Both approaches have their pros and cons:\n",
    "\n",
    "- If we delete the rows we are being more precise, in the sense that we restrict our model to fewer neighborhoods.\n",
    "- If we mantain the rows we have more data to construct the model.\n",
    "\n",
    "Lets drop the rows and make a note that this model does not work for those neighborhoods."
   ]
  },
  {
   "cell_type": "code",
   "execution_count": null,
   "metadata": {},
   "outputs": [],
   "source": [
    "selection = ~data['Neighborhood'].isin([\n",
    "    'Blueste',\n",
    "    'Greens',\n",
    "    'GrnHill',\n",
    "    'Landmrk',\n",
    "])\n",
    "data = data[selection]"
   ]
  },
  {
   "cell_type": "code",
   "execution_count": null,
   "metadata": {},
   "outputs": [],
   "source": [
    "data['Neighborhood'] = data['Neighborhood'].cat.remove_unused_categories()"
   ]
  },
  {
   "cell_type": "code",
   "execution_count": null,
   "metadata": {},
   "outputs": [],
   "source": [
    "data['Neighborhood'].value_counts()"
   ]
  },
  {
   "attachments": {},
   "cell_type": "markdown",
   "metadata": {},
   "source": [
    "#### `Garage.Type`"
   ]
  },
  {
   "cell_type": "code",
   "execution_count": null,
   "metadata": {},
   "outputs": [],
   "source": [
    "data['Garage.Type'].info()"
   ]
  },
  {
   "cell_type": "code",
   "execution_count": null,
   "metadata": {},
   "outputs": [],
   "source": [
    "data['Garage.Type'].value_counts()"
   ]
  },
  {
   "attachments": {},
   "cell_type": "markdown",
   "metadata": {},
   "source": [
    "Looks like there are a few residences that do not have a garage, lets create a `NoGarage` category for them."
   ]
  },
  {
   "cell_type": "code",
   "execution_count": null,
   "metadata": {},
   "outputs": [],
   "source": [
    "data['Garage.Type'] = data['Garage.Type'].cat.add_categories(['NoGarage'])\n",
    "data['Garage.Type'][data['Garage.Type'].isna()] = 'NoGarage'"
   ]
  },
  {
   "cell_type": "code",
   "execution_count": null,
   "metadata": {},
   "outputs": [],
   "source": [
    "data['Garage.Type'].value_counts()"
   ]
  },
  {
   "attachments": {},
   "cell_type": "markdown",
   "metadata": {},
   "source": [
    "### A final look at the categorical variables"
   ]
  },
  {
   "attachments": {},
   "cell_type": "markdown",
   "metadata": {},
   "source": [
    "After all of this processing, even the set of categorical variables has changed, so lets make a new list:"
   ]
  },
  {
   "cell_type": "code",
   "execution_count": null,
   "metadata": {},
   "outputs": [],
   "source": [
    "all_categorical = data.select_dtypes('category').columns\n",
    "\n",
    "new_categorical_variables = [ \\\n",
    "    col for col in all_categorical \\\n",
    "    if not col in ordinal_variables \\\n",
    "]"
   ]
  },
  {
   "cell_type": "code",
   "execution_count": null,
   "metadata": {},
   "outputs": [],
   "source": [
    "# plot_categoricals(data, new_categorical_variables)"
   ]
  },
  {
   "attachments": {},
   "cell_type": "markdown",
   "metadata": {},
   "source": [
    "Looks like we are done with the categorical variables, yay! Notice that there are no more missing values among the categorical variables!"
   ]
  },
  {
   "attachments": {},
   "cell_type": "markdown",
   "metadata": {},
   "source": [
    "### Analyzing the ordinal variables"
   ]
  },
  {
   "attachments": {},
   "cell_type": "markdown",
   "metadata": {},
   "source": [
    "Lets take a first look:"
   ]
  },
  {
   "cell_type": "code",
   "execution_count": null,
   "metadata": {},
   "outputs": [],
   "source": [
    "# plot_categoricals(data, ordinal_variables, sorted=False)"
   ]
  },
  {
   "attachments": {},
   "cell_type": "markdown",
   "metadata": {},
   "source": [
    "Ouch! Again, we suffer from the existence of categories with very low representativity! But here, different from the nominal variables, we have a choice. If we model the ordinal variables as increaasing numbers (we'll do that when preparing the data for the model), than the low representativity of some categories is no longer a problem: it is just a number that does not occur often!\n",
    "\n",
    "So the only problems to address here are:\n",
    "\n",
    "- Extreme cases of low representativity: the `Utilities` feature.\n",
    "- Large number of missing values."
   ]
  },
  {
   "cell_type": "markdown",
   "metadata": {},
   "source": [
    "#### `Utilities`"
   ]
  },
  {
   "attachments": {},
   "cell_type": "markdown",
   "metadata": {},
   "source": [
    "This one is easy: the low representativity here is so extreme that we will just drop this column."
   ]
  },
  {
   "cell_type": "code",
   "execution_count": null,
   "metadata": {},
   "outputs": [],
   "source": [
    "data = data.drop(columns='Utilities')"
   ]
  },
  {
   "cell_type": "markdown",
   "metadata": {},
   "source": [
    "#### Large number of missing values"
   ]
  },
  {
   "attachments": {},
   "cell_type": "markdown",
   "metadata": {},
   "source": [
    "There are aa few different cases here:"
   ]
  },
  {
   "attachments": {},
   "cell_type": "markdown",
   "metadata": {},
   "source": [
    "\n",
    "##### `Pool.QC`\n",
    "\n",
    "Negligible information here, drop the column."
   ]
  },
  {
   "cell_type": "code",
   "execution_count": null,
   "metadata": {},
   "outputs": [],
   "source": [
    "data = data.drop(columns='Pool.QC')"
   ]
  },
  {
   "attachments": {},
   "cell_type": "markdown",
   "metadata": {},
   "source": [
    "##### `Fence`\n",
    "\n",
    "This is interesting. The documentation says:\n",
    "\n",
    "```\n",
    "Fence (Ordinal): Fence quality\n",
    "\t\t\n",
    "       GdPrv\tGood Privacy\n",
    "       MnPrv\tMinimum Privacy\n",
    "       GdWo\tGood Wood\n",
    "       MnWw\tMinimum Wood/Wire\n",
    "       NA\tNo Fence\n",
    "```\n",
    "\n",
    "Since the `Fence` feature means to convey the level of privacy that a fence brings to the residence, we can create a new category `NoFence` and set it to be the category with the lowest privacy level! Then we mark all missing values as `NoFence`!"
   ]
  },
  {
   "cell_type": "code",
   "execution_count": null,
   "metadata": {},
   "outputs": [],
   "source": [
    "data['Fence'].value_counts().sort_index()"
   ]
  },
  {
   "cell_type": "code",
   "execution_count": null,
   "metadata": {},
   "outputs": [],
   "source": [
    "old_categories = list(data['Fence'].cat.categories)\n",
    "old_categories"
   ]
  },
  {
   "cell_type": "code",
   "execution_count": null,
   "metadata": {},
   "outputs": [],
   "source": [
    "new_categories = old_categories + ['NoFence']\n",
    "new_categories"
   ]
  },
  {
   "cell_type": "code",
   "execution_count": null,
   "metadata": {},
   "outputs": [],
   "source": [
    "data['Fence'] = data['Fence'].cat.set_categories(new_categories)"
   ]
  },
  {
   "cell_type": "code",
   "execution_count": null,
   "metadata": {},
   "outputs": [],
   "source": [
    "data['Fence'].dtype"
   ]
  },
  {
   "cell_type": "code",
   "execution_count": null,
   "metadata": {},
   "outputs": [],
   "source": [
    "data['Fence'][data['Fence'].isna()] = 'NoFence'"
   ]
  },
  {
   "cell_type": "code",
   "execution_count": null,
   "metadata": {},
   "outputs": [],
   "source": [
    "data['Fence'].value_counts().sort_index()"
   ]
  },
  {
   "attachments": {},
   "cell_type": "markdown",
   "metadata": {},
   "source": [
    "##### `Fireplace.Qu`\n",
    "\n",
    "This is a hard one. There is a lot of information there, but also a lot of missing values with no obvious way to transform them into something meaningful (like in the `Fence` case)."
   ]
  },
  {
   "cell_type": "code",
   "execution_count": null,
   "metadata": {},
   "outputs": [],
   "source": [
    "data['Fireplace.Qu'].value_counts().sort_index()"
   ]
  },
  {
   "attachments": {},
   "cell_type": "markdown",
   "metadata": {},
   "source": [
    "Observe that most fireplace quality indicators are between \"good\" and \"typical\". Also notice that there is a variable `Fireplaces` that list how many fireplaces a house has."
   ]
  },
  {
   "cell_type": "code",
   "execution_count": null,
   "metadata": {},
   "outputs": [],
   "source": [
    "data['Fireplaces'].value_counts()"
   ]
  },
  {
   "attachments": {},
   "cell_type": "markdown",
   "metadata": {},
   "source": [
    "These observations give us an alternative here: drop the `Fireplace.Qu` column. Reasons:\n",
    "\n",
    "- If there is a fireplace, it will usually be \"good\" or \"typical\" - there is a fair amount of lower and higher level fireplaces, but we have to choose to ignore something;\n",
    "- The `Fireplaces` variable already conveys the idea of whether there is a fireplace (or many)."
   ]
  },
  {
   "cell_type": "code",
   "execution_count": null,
   "metadata": {},
   "outputs": [],
   "source": [
    "data = data.drop(columns='Fireplace.Qu')"
   ]
  },
  {
   "attachments": {},
   "cell_type": "markdown",
   "metadata": {},
   "source": [
    "##### `Garage.Cond`, `Garage.Qual`, `Garage.Finish`\n",
    "\n",
    "All of these variables (plus the `Garage.Yr.Blt`) have the same number of non-missing entries:"
   ]
  },
  {
   "cell_type": "code",
   "execution_count": null,
   "metadata": {},
   "outputs": [],
   "source": [
    "plot_categoricals(\n",
    "    data,\n",
    "    [\n",
    "        'Garage.Cond',\n",
    "        'Garage.Qual',\n",
    "        'Garage.Finish',\n",
    "    ],\n",
    "    sorted=False,\n",
    ")"
   ]
  },
  {
   "attachments": {},
   "cell_type": "markdown",
   "metadata": {},
   "source": [
    "While the `Garage.Cond` and `Garage.Qual` features can be ignored, the `Garage.Finish` feature seems to have relevant information. What to do?"
   ]
  },
  {
   "cell_type": "code",
   "execution_count": null,
   "metadata": {},
   "outputs": [],
   "source": [
    "data = data.drop(columns=['Garage.Cond', 'Garage.Qual'])"
   ]
  },
  {
   "cell_type": "markdown",
   "metadata": {},
   "source": [
    "\n",
    "As always, some information will be discarded in one way or another. In this case we can transform the `Garage.Finish` variable from an ordinal variable to a nominal variable - that is, we discard the ordering of the finishing levels. This way we can create a new category `NoGarage` to account for the missing values."
   ]
  },
  {
   "cell_type": "code",
   "execution_count": null,
   "metadata": {},
   "outputs": [],
   "source": [
    "data['Garage.Finish'] = data['Garage.Finish'] \\\n",
    "    .cat \\\n",
    "    .as_unordered() \\\n",
    "    .cat \\\n",
    "    .add_categories(['NoGarage'])\n",
    "data['Garage.Finish'][data['Garage.Finish'].isna()] = 'NoGarage'"
   ]
  },
  {
   "cell_type": "code",
   "execution_count": null,
   "metadata": {},
   "outputs": [],
   "source": [
    "data['Garage.Finish'].value_counts()"
   ]
  },
  {
   "cell_type": "code",
   "execution_count": null,
   "metadata": {},
   "outputs": [],
   "source": [
    "data['Garage.Finish'].dtype"
   ]
  },
  {
   "cell_type": "code",
   "execution_count": null,
   "metadata": {},
   "outputs": [],
   "source": [
    "data['Garage.Finish'].cat.ordered"
   ]
  },
  {
   "attachments": {},
   "cell_type": "markdown",
   "metadata": {},
   "source": [
    "##### `Electrical`"
   ]
  },
  {
   "cell_type": "code",
   "execution_count": null,
   "metadata": {},
   "outputs": [],
   "source": [
    "data['Electrical'].isna().value_counts()"
   ]
  },
  {
   "cell_type": "code",
   "execution_count": null,
   "metadata": {},
   "outputs": [],
   "source": [
    "plot_categoricals(data, ['Electrical'], sorted=False)"
   ]
  },
  {
   "attachments": {},
   "cell_type": "markdown",
   "metadata": {},
   "source": [
    "So we can drop the only row with a missing value for the `Electrical` variable, or we can fill it with something. Given the high prevalence of the `SBrkr` category, lets set the missing value as that."
   ]
  },
  {
   "cell_type": "code",
   "execution_count": null,
   "metadata": {},
   "outputs": [],
   "source": [
    "data['Electrical'][data['Electrical'].isna()] = 'SBrkr'"
   ]
  },
  {
   "cell_type": "code",
   "execution_count": null,
   "metadata": {},
   "outputs": [],
   "source": [
    "ordinal_columns = [col for col in data.select_dtypes('category') if data[col].cat.ordered]"
   ]
  },
  {
   "cell_type": "code",
   "execution_count": null,
   "metadata": {},
   "outputs": [],
   "source": [
    "data[ordinal_columns].info()"
   ]
  },
  {
   "attachments": {},
   "cell_type": "markdown",
   "metadata": {},
   "source": [
    "##### `Bsmt.Qual`, `Bsmt.Cond`, `Bsmt.Exposure`, `BsmtFin.Type.1`, `BsmtFin.Type.2`"
   ]
  },
  {
   "cell_type": "code",
   "execution_count": null,
   "metadata": {},
   "outputs": [],
   "source": [
    "plot_categoricals(\n",
    "    data,\n",
    "    [\n",
    "        'Bsmt.Qual',\n",
    "        'Bsmt.Cond',\n",
    "        'Bsmt.Exposure',\n",
    "        'BsmtFin.Type.1',\n",
    "        'BsmtFin.Type.2',\n",
    "    ],\n",
    "    sorted=False,\n",
    ")"
   ]
  },
  {
   "attachments": {},
   "cell_type": "markdown",
   "metadata": {},
   "source": [
    "For `Bsmt.Exposure`, lets assign the missing entries to the `NA` category. For all the other columns (`Bsmt.Qual`, `Bsmt.Cond`, `BsmtFin.Type.1`, `BsmtFin.Type.2`) lets also create the `NA` category and assign the missing entries to that category. Finally, since the `NA` category does not fit into a sequence with the other classes, lets convert these columns to nominal (that is, categoricals without category order). Notice that in this case we need to eliminate the unused categories."
   ]
  },
  {
   "cell_type": "code",
   "execution_count": null,
   "metadata": {},
   "outputs": [],
   "source": [
    "data['Bsmt.Exposure'].unique()"
   ]
  },
  {
   "cell_type": "code",
   "execution_count": null,
   "metadata": {},
   "outputs": [],
   "source": [
    "data['Bsmt.Exposure'][data['Bsmt.Exposure'].isna()] = 'NA'\n",
    "data['Bsmt.Exposure'] = data['Bsmt.Exposure'] \\\n",
    "    .cat \\\n",
    "    .as_unordered() \\\n",
    "    .cat \\\n",
    "    .remove_unused_categories()"
   ]
  },
  {
   "cell_type": "code",
   "execution_count": null,
   "metadata": {},
   "outputs": [],
   "source": [
    "for col in ('Bsmt.Qual', 'Bsmt.Cond', 'BsmtFin.Type.1', 'BsmtFin.Type.2'):\n",
    "    data[col] = data[col].cat.add_categories(['NA'])\n",
    "    data[col][data[col].isna()] = 'NA'\n",
    "    data[col] = data[col] \\\n",
    "        .cat \\\n",
    "        .as_unordered() \\\n",
    "        .cat \\\n",
    "        .remove_unused_categories()"
   ]
  },
  {
   "cell_type": "code",
   "execution_count": null,
   "metadata": {},
   "outputs": [],
   "source": [
    "plot_categoricals(\n",
    "    data,\n",
    "    [\n",
    "        'Bsmt.Qual',\n",
    "        'Bsmt.Cond',\n",
    "        'Bsmt.Exposure',\n",
    "        'BsmtFin.Type.1',\n",
    "        'BsmtFin.Type.2',\n",
    "    ],\n",
    "    sorted=False,\n",
    ")"
   ]
  },
  {
   "attachments": {},
   "cell_type": "markdown",
   "metadata": {},
   "source": [
    "Lets also place the entries from the minor categories of `Bsmt.Cond` into neighboring categories, to simplify the dataset.\n"
   ]
  },
  {
   "cell_type": "code",
   "execution_count": null,
   "metadata": {},
   "outputs": [],
   "source": [
    "data['Bsmt.Cond'][data['Bsmt.Cond'] == 'Po'] = 'Fa'\n",
    "data['Bsmt.Cond'][data['Bsmt.Cond'] == 'Ex'] = 'Gd'\n",
    "data['Bsmt.Cond'] = data['Bsmt.Cond'].cat.remove_unused_categories()"
   ]
  },
  {
   "cell_type": "code",
   "execution_count": null,
   "metadata": {},
   "outputs": [],
   "source": [
    "data['Bsmt.Cond'].value_counts()"
   ]
  },
  {
   "cell_type": "code",
   "execution_count": null,
   "metadata": {},
   "outputs": [],
   "source": [
    "data[ordinal_columns].info()"
   ]
  },
  {
   "attachments": {},
   "cell_type": "markdown",
   "metadata": {},
   "source": [
    "Great! All ordinal variables are corrected!"
   ]
  },
  {
   "attachments": {},
   "cell_type": "markdown",
   "metadata": {},
   "source": [
    "### Analyzing the continuous variables"
   ]
  },
  {
   "attachments": {},
   "cell_type": "markdown",
   "metadata": {},
   "source": [
    "Lets look for missing values, anomalies, outliers, and all sorts of things that may hinder our modeling."
   ]
  },
  {
   "cell_type": "code",
   "execution_count": null,
   "metadata": {},
   "outputs": [],
   "source": [
    "def plot_numericals(data, cols):\n",
    "    summary = data[cols] \\\n",
    "        .describe() \\\n",
    "        .transpose() \\\n",
    "        .sort_values(by='count')\n",
    "\n",
    "    print(summary)\n",
    "\n",
    "    n = data.shape[0]\n",
    "    b = int(np.sqrt(n))\n",
    "    for k, (col, val) in enumerate(summary['count'].items()):\n",
    "        plt.figure()\n",
    "        data[col].plot.hist(bins=b)\n",
    "        plt.title(f'{col}, n={int(val)}')\n",
    "        plt.show()\n",
    "\n",
    "# plot_numericals(data, data.select_dtypes('number').columns)"
   ]
  },
  {
   "cell_type": "code",
   "execution_count": null,
   "metadata": {},
   "outputs": [],
   "source": []
  },
  {
   "attachments": {},
   "cell_type": "markdown",
   "metadata": {},
   "source": [
    "#### `SalePrice`"
   ]
  },
  {
   "attachments": {},
   "cell_type": "markdown",
   "metadata": {},
   "source": [
    "Ah, the target! The most special feature of all! Sale prices have a few special properties:\n",
    "\n",
    "- They are always non-negative, and most likely have a min value that is positive.\n",
    "- The *importance of the difference* of sale prices is not absolute: a difference of $10k in a house valued at $100k is a lot (10%), but in a house valued at $1M is negligible.\n",
    "\n",
    "These characteristics suggest something important: maybe our model should predict the *logarithm* of the sale price, rather than the actual price! This way, errors are associated with proportions, rather than absolute values! \n",
    "\n",
    "Lets analyze the previous sentence mathematically. Call $P$ the real value of a house, and $\\hat{P}$ the value given by our (yet to be developed) model. However, since we will work with the logarithm of $P$ and $\\hat{P}$ instead, lets name the log-values as well: $y = \\log_{10}{(P)}$ and $\\hat{y} = \\log_{10}{(\\hat{P})}$.\n",
    "\n",
    "(Why base $10$? Mere convenience: the value of $y$ or $\\hat{y}$ can be immediately associated with the base-$10$ magnitude of the house price they represent. For instance: $y = 5.6$ implies $P = 10^{5.6} = 10^{0.6} \\times 10^{5}$, which is something in the range of hundreds of thousands. So, take the integer part of the base-$10$ logarithm and you automatically have the order of magnitude of the price).\n",
    "\n",
    "Now, when we have a prediction value $\\hat{y}$ for a house with log-price $y$, the error is $\\varepsilon = (\\hat{y} - y)$. Substituting the definitions of $y$ and $\\hat{y}$ we have:\n",
    "\n",
    "$$\n",
    "\\varepsilon = \\hat{y} - y = \\log_{10}{(\\hat{P})} - \\log_{10}{(P)} = \\log_{10}{\\left(\\frac{\\hat{P}}{P}\\right)}\n",
    "$$\n",
    "\n",
    "Therefore we can obtain the prediction error for this house as a fraction:\n",
    "\n",
    "$$\n",
    "10^{\\varepsilon} = 10^{\\log_{10}{\\left(\\frac{\\hat{P}}{P}\\right)}} = \\frac{\\hat{P}}{P}\n",
    "$$\n",
    "\n",
    "And we can convert it into a percentage:\n",
    "\n",
    "$$\n",
    "\\varepsilon_{\\%} = 100 * (10^{\\varepsilon} - 1) = 100 * \\left(\\frac{\\hat{P}}{P} - 1\\right) = 100 * \\left(\\frac{\\hat{P} - P}{P}\\right)\n",
    "$$\n",
    "\n",
    "Percentual errors are much more informative of the practical value of our (future) model. If I tell you that the average error of a model is 50k USD, is this good or bad? It depends on the price of the house we are considering: an error of 50k USD in a house valued at 250k USD is very significant, whereas if the house costed 10 million USD, then an error of 50k USD is quite acceptable. Now, if I tell you that the model has an average error of $5\\%$, this is understandable across all ranges of house prices.\n",
    "\n",
    "\n",
    "Lets work this out:"
   ]
  },
  {
   "cell_type": "code",
   "execution_count": null,
   "metadata": {},
   "outputs": [],
   "source": [
    "data['SalePrice'].describe()"
   ]
  },
  {
   "attachments": {},
   "cell_type": "markdown",
   "metadata": {},
   "source": [
    "Lets remap the `SalePrice` variable to represent the base-10 logarithm of the original value. Again, why base 10? Any base will do, but the base 10 is a bit more interpretable: a value of 3 means thousands, 4 means tens of thousands, 6 means million, etc."
   ]
  },
  {
   "cell_type": "code",
   "execution_count": null,
   "metadata": {},
   "outputs": [],
   "source": [
    "data['SalePrice'] = data['SalePrice'].apply(np.log10)"
   ]
  },
  {
   "cell_type": "code",
   "execution_count": null,
   "metadata": {},
   "outputs": [],
   "source": [
    "data['SalePrice'].describe()"
   ]
  },
  {
   "attachments": {},
   "cell_type": "markdown",
   "metadata": {},
   "source": [
    "#### `Lot.Frontage`"
   ]
  },
  {
   "cell_type": "code",
   "execution_count": null,
   "metadata": {},
   "outputs": [],
   "source": [
    "data['Lot.Frontage'].info()"
   ]
  },
  {
   "attachments": {},
   "cell_type": "markdown",
   "metadata": {},
   "source": [
    "Plenty of missing values here, what do they mean? The documentation is not very helpful:\n",
    "\n",
    "```\n",
    "Lot Frontage (Continuous): Linear feet of street connected to property\n",
    "```\n",
    "\n",
    "Maybe the relation between this feature and some other feature will explain it."
   ]
  },
  {
   "cell_type": "code",
   "execution_count": null,
   "metadata": {},
   "outputs": [],
   "source": [
    "missing_lot_frontage = data['Lot.Frontage'].isna()"
   ]
  },
  {
   "cell_type": "code",
   "execution_count": null,
   "metadata": {},
   "outputs": [],
   "source": [
    "data['MS.SubClass'][missing_lot_frontage].value_counts()"
   ]
  },
  {
   "cell_type": "code",
   "execution_count": null,
   "metadata": {},
   "outputs": [],
   "source": [
    "data['Lot.Config'][missing_lot_frontage].value_counts()"
   ]
  },
  {
   "cell_type": "code",
   "execution_count": null,
   "metadata": {},
   "outputs": [],
   "source": [
    "data['Land.Contour'][missing_lot_frontage].value_counts()"
   ]
  },
  {
   "attachments": {},
   "cell_type": "markdown",
   "metadata": {},
   "source": [
    "Nope, no obvious relationship. Is this column even useful for prediction? Lets compare it with `SalePrice`:"
   ]
  },
  {
   "cell_type": "code",
   "execution_count": null,
   "metadata": {},
   "outputs": [],
   "source": [
    "data.plot.scatter(x='Lot.Frontage', y='SalePrice', alpha=0.1)\n",
    "plt.ylabel('$\\log_{10} SalePrice$')"
   ]
  },
  {
   "attachments": {},
   "cell_type": "markdown",
   "metadata": {},
   "source": [
    "Yikes, no way to ignore this feature! Can we at least relate it to `Lot.Area`?"
   ]
  },
  {
   "cell_type": "code",
   "execution_count": null,
   "metadata": {},
   "outputs": [],
   "source": [
    "data[['Lot.Frontage', 'Lot.Area']].corr()"
   ]
  },
  {
   "attachments": {},
   "cell_type": "markdown",
   "metadata": {},
   "source": [
    "There is some correlation there, maybe the square-root of the lot area shows better correlation?"
   ]
  },
  {
   "cell_type": "code",
   "execution_count": null,
   "metadata": {},
   "outputs": [],
   "source": [
    "aux_data = data[['Lot.Frontage', 'Lot.Area']].copy()\n",
    "aux_data['Sqrt.Lot.Area'] = aux_data['Lot.Area'].apply(np.sqrt)"
   ]
  },
  {
   "cell_type": "code",
   "execution_count": null,
   "metadata": {},
   "outputs": [],
   "source": [
    "aux_data[['Lot.Frontage', 'Sqrt.Lot.Area']].corr()"
   ]
  },
  {
   "attachments": {},
   "cell_type": "markdown",
   "metadata": {},
   "source": [
    "Nice! There is a healthy relationship between `Lot.Frontage` and the square root of `Lot.Area`!"
   ]
  },
  {
   "cell_type": "code",
   "execution_count": null,
   "metadata": {},
   "outputs": [],
   "source": [
    "x = np.sqrt(data['Lot.Area'])\n",
    "y = data['Lot.Frontage']\n",
    "plt.scatter(x, y, alpha=0.2)\n",
    "plt.xlim([0, 200])\n",
    "plt.ylim([0, 200])\n",
    "plt.xlabel('$\\sqrt{Lot.Area}$')\n",
    "plt.ylabel('$Lot.Frontage$')\n",
    "plt.title('Relationship between lot frontage and area')\n",
    "plt.show()"
   ]
  },
  {
   "attachments": {},
   "cell_type": "markdown",
   "metadata": {},
   "source": [
    "We could *predict* the `Lot.Frontage` for the mising entries from the `Lot.Area` feature!\n",
    "\n",
    "The task of filling up missing values is called **Imputation**. There are several imputation strategies, some of them are:\n",
    "\n",
    "- Replace with some meaningful constant independent of the dataset - e.g. zero.\n",
    "- Replace with a constant derived from the dataset, like the mean or median.\n",
    "- Replace with a predicted value from other variables.\n",
    "\n",
    "So, fitting a linear model to predict `Lot.Frontage` from the square root of `Lot.Area` could be a good alternative. But for now lets do the simplest thing: impute the missing values of `Lot.Frontage` simply with the median of `Lot.Frontage`. Once we are more familiar with modelling we can revisit this decision.\n",
    "\n",
    "**Caution**: There is also the possibility that the missing values represent residences that *do not have a frontage*! No way to tell from the documentation or the relationship with other relevant variables! Another moment here where the really best course of action is to go back to the expert and ask questions, ok?"
   ]
  },
  {
   "cell_type": "code",
   "execution_count": null,
   "metadata": {},
   "outputs": [],
   "source": [
    "data['Lot.Frontage'] = data['Lot.Frontage'].fillna(data['Lot.Frontage'].median())"
   ]
  },
  {
   "cell_type": "code",
   "execution_count": null,
   "metadata": {},
   "outputs": [],
   "source": [
    "data['Lot.Frontage'].info()"
   ]
  },
  {
   "attachments": {},
   "cell_type": "markdown",
   "metadata": {},
   "source": [
    "#### `Garage.Yr.Blt` "
   ]
  },
  {
   "cell_type": "code",
   "execution_count": null,
   "metadata": {},
   "outputs": [],
   "source": [
    "data['Garage.Yr.Blt'].describe()"
   ]
  },
  {
   "attachments": {},
   "cell_type": "markdown",
   "metadata": {},
   "source": [
    "Oops! Looks like someone built a garage in the future!\n",
    "\n",
    "The documentation states that the residential sales were collected from 2006 to 2010. We have the `Yr.Sold` variable to let us know when the house was sold. So we can obtain from those the information of how old the garage was when the house was sold! That is a better variable than `Garage.Yr.Blt` by itself."
   ]
  },
  {
   "cell_type": "code",
   "execution_count": null,
   "metadata": {},
   "outputs": [],
   "source": [
    "garage_age = data['Yr.Sold'] - data['Garage.Yr.Blt']\n",
    "garage_age.describe()"
   ]
  },
  {
   "cell_type": "markdown",
   "metadata": {},
   "source": [
    "Lets look at the garages \"from the future\""
   ]
  },
  {
   "cell_type": "code",
   "execution_count": null,
   "metadata": {},
   "outputs": [],
   "source": [
    "data[garage_age < 0.0].transpose()"
   ]
  },
  {
   "attachments": {},
   "cell_type": "markdown",
   "metadata": {},
   "source": [
    "Only two rows. One is an obvious mistake, the other looks somewhat legitimate: house was sold new in 2007, garage was only finished in 2008. We can safely correct these errors, but if there was any doubt about the validity of fixing them, it is better to get rid of the rows. In our case we will set the garage age to zero."
   ]
  },
  {
   "cell_type": "code",
   "execution_count": null,
   "metadata": {},
   "outputs": [],
   "source": [
    "garage_age[garage_age < 0.0] = 0.0"
   ]
  },
  {
   "attachments": {},
   "cell_type": "markdown",
   "metadata": {},
   "source": [
    "And now we remove the `Garage.Yr.Blt` column, replacing it with a new `Garage.Age` column."
   ]
  },
  {
   "cell_type": "code",
   "execution_count": null,
   "metadata": {},
   "outputs": [],
   "source": [
    "data = data.drop(columns='Garage.Yr.Blt')\n",
    "data['Garage.Age'] = garage_age"
   ]
  },
  {
   "attachments": {},
   "cell_type": "markdown",
   "metadata": {},
   "source": [
    "What about the missing values of the new `Garage.Age` column?"
   ]
  },
  {
   "cell_type": "code",
   "execution_count": null,
   "metadata": {},
   "outputs": [],
   "source": [
    "data['Garage.Age'].info()"
   ]
  },
  {
   "cell_type": "code",
   "execution_count": null,
   "metadata": {},
   "outputs": [],
   "source": [
    "data['Garage.Type'][data['Garage.Age'].isna()].value_counts()"
   ]
  },
  {
   "attachments": {},
   "cell_type": "markdown",
   "metadata": {},
   "source": [
    "Seems like they correspond to the absence of garage. What is a reasonable value for imputation of `Garage.Age` when there is no garage? Zero? Median? \n",
    "\n",
    "Or drop the rows altogether? (Seems excessive!)\n",
    "\n",
    "Lets just impute the median here. The logic is that we want to cause the least harm to the data by doing this."
   ]
  },
  {
   "cell_type": "code",
   "execution_count": null,
   "metadata": {},
   "outputs": [],
   "source": [
    "data['Garage.Age'] = data['Garage.Age'].fillna(data['Garage.Age'].median())"
   ]
  },
  {
   "attachments": {},
   "cell_type": "markdown",
   "metadata": {},
   "source": [
    "#### `Year.Remod.Add`, `Year.Built`\n",
    "\n",
    "Lets apply the same age treatment to these variables"
   ]
  },
  {
   "cell_type": "code",
   "execution_count": null,
   "metadata": {},
   "outputs": [],
   "source": [
    "data[['Year.Remod.Add', 'Year.Built', 'Yr.Sold']].describe()"
   ]
  },
  {
   "cell_type": "code",
   "execution_count": null,
   "metadata": {},
   "outputs": [],
   "source": [
    "remod_age = data['Yr.Sold'] - data['Year.Remod.Add']\n",
    "remod_age.describe()"
   ]
  },
  {
   "attachments": {},
   "cell_type": "markdown",
   "metadata": {},
   "source": [
    "Oops, another weirdness, lets check"
   ]
  },
  {
   "cell_type": "code",
   "execution_count": null,
   "metadata": {},
   "outputs": [],
   "source": [
    "data[remod_age < 0.0].transpose()"
   ]
  },
  {
   "attachments": {},
   "cell_type": "markdown",
   "metadata": {},
   "source": [
    "Same story, lets set the remodeling age to zero for these cases"
   ]
  },
  {
   "cell_type": "code",
   "execution_count": null,
   "metadata": {},
   "outputs": [],
   "source": [
    "remod_age[remod_age < 0.0] = 0.0"
   ]
  },
  {
   "cell_type": "code",
   "execution_count": null,
   "metadata": {},
   "outputs": [],
   "source": [
    "house_age = data['Yr.Sold'] - data['Year.Built']\n",
    "house_age.describe()"
   ]
  },
  {
   "attachments": {},
   "cell_type": "markdown",
   "metadata": {},
   "source": [
    "Again..."
   ]
  },
  {
   "cell_type": "code",
   "execution_count": null,
   "metadata": {},
   "outputs": [],
   "source": [
    "data[house_age < 0.0].transpose()"
   ]
  },
  {
   "attachments": {},
   "cell_type": "markdown",
   "metadata": {},
   "source": [
    "Same approach, lets set the age to zero in this case."
   ]
  },
  {
   "cell_type": "code",
   "execution_count": null,
   "metadata": {},
   "outputs": [],
   "source": [
    "house_age[house_age < 0.0] = 0.0"
   ]
  },
  {
   "cell_type": "code",
   "execution_count": null,
   "metadata": {},
   "outputs": [],
   "source": [
    "data = data.drop(columns=['Year.Remod.Add', 'Year.Built'])\n",
    "data['Remod.Age'] = remod_age\n",
    "data['House.Age'] = house_age"
   ]
  },
  {
   "attachments": {},
   "cell_type": "markdown",
   "metadata": {},
   "source": [
    "#### `Mas.Vnr.Area`"
   ]
  },
  {
   "cell_type": "code",
   "execution_count": null,
   "metadata": {},
   "outputs": [],
   "source": [
    "data['Mas.Vnr.Area'].info()"
   ]
  },
  {
   "attachments": {},
   "cell_type": "markdown",
   "metadata": {},
   "source": [
    "Just a few missing values here. Do they correspond to the absence of veneer?"
   ]
  },
  {
   "cell_type": "code",
   "execution_count": null,
   "metadata": {},
   "outputs": [],
   "source": [
    "data['Mas.Vnr.Type'][data['Mas.Vnr.Area'].isna()].value_counts()"
   ]
  },
  {
   "attachments": {},
   "cell_type": "markdown",
   "metadata": {},
   "source": [
    "Yep. Impute with zeros."
   ]
  },
  {
   "cell_type": "code",
   "execution_count": null,
   "metadata": {},
   "outputs": [],
   "source": [
    "data.loc[data['Mas.Vnr.Area'].isna(), 'Mas.Vnr.Area'] = 0.0"
   ]
  },
  {
   "attachments": {},
   "cell_type": "markdown",
   "metadata": {},
   "source": [
    "#### Features that contain a lot of zeros"
   ]
  },
  {
   "attachments": {},
   "cell_type": "markdown",
   "metadata": {},
   "source": [
    "In the case of features that contain a lot of zeros, it could be that the feature contains actual information in the non-zero cases, and zero to indicate that the feature is absent. Consider, for instance, the `Pool.Area` feature:"
   ]
  },
  {
   "cell_type": "code",
   "execution_count": null,
   "metadata": {},
   "outputs": [],
   "source": [
    "num_houses = data.shape[0]\n",
    "num_houses_with_pool = data[data['Pool.Area'] > 0].shape[0]\n",
    "print(f'Out of {num_houses} houses, only {num_houses_with_pool} have a pool.')"
   ]
  },
  {
   "attachments": {},
   "cell_type": "markdown",
   "metadata": {},
   "source": [
    "What to do? Discard the column? Discard the rows (we don't appraise houses with pools!)? Transform the column into a categorical `HasPool`?\n",
    "\n",
    "Actually, it depends on the model. A linear model, for instance, can safely process this column: since the pool area for houses without pools is zero, the contribution of the pool area to the house price will be zero (remember that a linear model associates a multiplicative coefficient for each variable).\n",
    "\n",
    "So we leave them all as is! We can revisit our decisions once we play a bit with the predictive model *as long as we only use the training dataset* - more on this later."
   ]
  },
  {
   "attachments": {},
   "cell_type": "markdown",
   "metadata": {},
   "source": [
    "#### Final cleanup"
   ]
  },
  {
   "cell_type": "code",
   "execution_count": null,
   "metadata": {},
   "outputs": [],
   "source": [
    "data.info()"
   ]
  },
  {
   "attachments": {},
   "cell_type": "markdown",
   "metadata": {},
   "source": [
    "After all this effort, only a few columns have just one missing value! We suffered enough, lets just drop those rows."
   ]
  },
  {
   "cell_type": "code",
   "execution_count": null,
   "metadata": {},
   "outputs": [],
   "source": [
    "data = data.dropna(axis=0)"
   ]
  },
  {
   "cell_type": "code",
   "execution_count": null,
   "metadata": {},
   "outputs": [],
   "source": [
    "data.info()"
   ]
  },
  {
   "attachments": {},
   "cell_type": "markdown",
   "metadata": {},
   "source": [
    "Nice, not a single missing value! Let us also remove unused categories, for good measure."
   ]
  },
  {
   "cell_type": "code",
   "execution_count": null,
   "metadata": {},
   "outputs": [],
   "source": [
    "for col in data.select_dtypes('category').columns:\n",
    "    data[col] = data[col].cat.remove_unused_categories()"
   ]
  },
  {
   "attachments": {},
   "cell_type": "markdown",
   "metadata": {},
   "source": [
    "## Joint feature analysis"
   ]
  },
  {
   "attachments": {},
   "cell_type": "markdown",
   "metadata": {},
   "source": [
    "There are two types of joint feature analysis:\n",
    "\n",
    "- feature versus feature\n",
    "- feature versus target\n",
    "\n",
    "Lets start with the \"feature versus target\" analysis."
   ]
  },
  {
   "attachments": {},
   "cell_type": "markdown",
   "metadata": {},
   "source": [
    "### Feature versus target"
   ]
  },
  {
   "attachments": {},
   "cell_type": "markdown",
   "metadata": {},
   "source": [
    "In this scenario we are exploring the relationship between an individual feature and the target. Since we are involving the target, it is best to do this after splitting the dataset into training and testing subsets, to avoid inferring deep relations between the features and the target without an \"out-of-sample\" dataset to use to measure the generalization capacity of our (soon-to-be-developed) model. \n",
    "\n",
    "Why? Because this involuntary \"peeking into the test dataset\" may cause us to make design decisions for our model that are way too adapted to the entire dataset, leaving no way to investigate if our decisions truly lead us to a model that makes effective predictions for unseen data, or if it is only \"memorizing\" the entire dataset. Looking into test data before all model-design decisions are made is called **data snooping**.\n",
    "\n",
    "So the only thing we will look at prior to train-test splitting is a simple numerical and visual correlation between the features and the target.\n",
    "\n",
    "Here are the scatter plots between the numerical features and the target. Look for perfect correlations: they may indicate that one of the features is the target in disguise!"
   ]
  },
  {
   "cell_type": "code",
   "execution_count": null,
   "metadata": {},
   "outputs": [],
   "source": [
    "numerical_data = data.select_dtypes('number').drop(columns='SalePrice').copy()\n",
    "target = data['SalePrice'].copy()"
   ]
  },
  {
   "cell_type": "code",
   "execution_count": null,
   "metadata": {},
   "outputs": [],
   "source": [
    "numerical_data.corrwith(target).sort_values()"
   ]
  },
  {
   "attachments": {},
   "cell_type": "markdown",
   "metadata": {},
   "source": [
    "Unsurprisingly:\n",
    "\n",
    "- The older the house, the lower the price\n",
    "- The larger the house, the higher the price\n",
    "\n",
    "Surprisingly, the `Lot.Area` has low correlation with the target!"
   ]
  },
  {
   "cell_type": "code",
   "execution_count": null,
   "metadata": {},
   "outputs": [],
   "source": [
    "# for column, series in numerical_data.items():\n",
    "#     plt.figure()\n",
    "#     plt.scatter(series, target, alpha=0.3)\n",
    "#     plt.title(column)\n",
    "#     plt.xlabel(column)\n",
    "#     plt.ylabel('SalePrice')\n",
    "#     plt.show()"
   ]
  },
  {
   "attachments": {},
   "cell_type": "markdown",
   "metadata": {},
   "source": [
    "Looks like no feature is perfectly predicting the target, which could indicate an obvious error in understanding the dataset."
   ]
  },
  {
   "attachments": {},
   "cell_type": "markdown",
   "metadata": {},
   "source": [
    "For the categorical features we will use box plots:"
   ]
  },
  {
   "cell_type": "code",
   "execution_count": null,
   "metadata": {},
   "outputs": [],
   "source": [
    "categorical_columns = data.select_dtypes('category').columns"
   ]
  },
  {
   "cell_type": "code",
   "execution_count": null,
   "metadata": {},
   "outputs": [],
   "source": [
    "# for column in categorical_columns:\n",
    "#     aux_dataframe = data[[column, 'SalePrice']]\n",
    "#     aux_dataframe.plot.box(by=column)\n",
    "#     plt.title(column)\n",
    "#     plt.xlabel(column)\n",
    "#     plt.ylabel('SalePrice')\n",
    "#     plt.show()"
   ]
  },
  {
   "attachments": {},
   "cell_type": "markdown",
   "metadata": {},
   "source": [
    "Looks like there is no suspicious relationship between the target and the features, moving on:"
   ]
  },
  {
   "attachments": {},
   "cell_type": "markdown",
   "metadata": {},
   "source": [
    "### Feature versus feature"
   ]
  },
  {
   "attachments": {},
   "cell_type": "markdown",
   "metadata": {},
   "source": [
    "This topic is a bit more complicated. First of all, there is a quadratic number of relationships for feature-versus-feature comparisons here, so it is not feasible to really analyze them all. We will limit ourselves to the analysis of correlations between numerical variables for now:"
   ]
  },
  {
   "cell_type": "code",
   "execution_count": null,
   "metadata": {},
   "outputs": [],
   "source": [
    "corr = data.corr(numeric_only=True)\n",
    "# corr"
   ]
  },
  {
   "cell_type": "code",
   "execution_count": null,
   "metadata": {},
   "outputs": [],
   "source": [
    "sns.heatmap(corr, xticklabels=corr.columns, yticklabels=corr.columns)"
   ]
  },
  {
   "attachments": {},
   "cell_type": "markdown",
   "metadata": {},
   "source": [
    "Why look for high correlations? In some models, the presence of high correlations may prevent the good fitting of the data onto the model. This is the case for the simple linear model. For now it seems that there are no damaging correlations here."
   ]
  },
  {
   "attachments": {},
   "cell_type": "markdown",
   "metadata": {},
   "source": [
    "## Save the cleaned data"
   ]
  },
  {
   "cell_type": "code",
   "execution_count": null,
   "metadata": {},
   "outputs": [],
   "source": [
    "clean_data_path = DATA_DIR / 'processed' / 'ames_clean.pkl'"
   ]
  },
  {
   "cell_type": "code",
   "execution_count": null,
   "metadata": {},
   "outputs": [],
   "source": [
    "with open(clean_data_path, 'wb') as file:\n",
    "    pickle.dump(data, file)"
   ]
  },
  {
   "cell_type": "markdown",
   "metadata": {},
   "source": [
    "## Seção 3"
   ]
  },
  {
   "cell_type": "code",
   "execution_count": 807,
   "metadata": {},
   "outputs": [],
   "source": [
    "DATA_DIR = pathlib.Path.cwd().parent / 'data'\n",
    "clean_data_path = DATA_DIR / 'processed' / 'ames_clean.pkl'\n",
    "with open(clean_data_path, 'rb') as file:\n",
    "    data = pickle.load(file)"
   ]
  },
  {
   "cell_type": "code",
   "execution_count": 808,
   "metadata": {},
   "outputs": [],
   "source": [
    "model_data = data.copy()\n"
   ]
  },
  {
   "cell_type": "code",
   "execution_count": 809,
   "metadata": {},
   "outputs": [],
   "source": [
    "categorical_columns = []\n",
    "ordinal_columns = []\n",
    "for col in model_data.select_dtypes('category').columns:\n",
    "    if model_data[col].cat.ordered:\n",
    "        ordinal_columns.append(col)\n",
    "    else:\n",
    "        categorical_columns.append(col)"
   ]
  },
  {
   "cell_type": "code",
   "execution_count": 810,
   "metadata": {},
   "outputs": [],
   "source": [
    "for col in ordinal_columns:\n",
    "    codes, _ = pd.factorize(data[col], sort=True)\n",
    "    model_data[col] = codes"
   ]
  },
  {
   "cell_type": "code",
   "execution_count": 811,
   "metadata": {},
   "outputs": [],
   "source": [
    "original_data = model_data['Exterior']\n",
    "encoded_data = pd.get_dummies(original_data)\n",
    "\n",
    "aux_dataframe = encoded_data\n",
    "aux_dataframe['Exterior'] = original_data.copy()\n"
   ]
  },
  {
   "cell_type": "code",
   "execution_count": 812,
   "metadata": {},
   "outputs": [],
   "source": [
    "original_data = model_data['Exterior']\n",
    "encoded_data = pd.get_dummies(original_data, drop_first=True)\n",
    "\n",
    "aux_dataframe = encoded_data\n",
    "aux_dataframe['Exterior'] = original_data.copy()\n"
   ]
  },
  {
   "cell_type": "code",
   "execution_count": 813,
   "metadata": {},
   "outputs": [],
   "source": [
    "model_data = pd.get_dummies(model_data, drop_first=True)"
   ]
  },
  {
   "cell_type": "markdown",
   "metadata": {},
   "source": [
    "### Feature engineering da dupla"
   ]
  },
  {
   "cell_type": "markdown",
   "metadata": {},
   "source": [
    "A partir desse ponto, será apresentado o feature engineer que os discentes realizaram para complementar o que já foi realizado pelo professor. "
   ]
  },
  {
   "cell_type": "markdown",
   "metadata": {},
   "source": [
    "Tendo em vista que serão utilizados modelos de regressão linear, é importante analisar as distribuções numéricas e avaliar se uma aplicação de logaritmo pode ser proveitosa, já que o haviam várias com assimétria a direita e os modelos lineares tendem a performar melhor com distribuições próximas a de uma normal. "
   ]
  },
  {
   "cell_type": "markdown",
   "metadata": {},
   "source": [
    "Além disso, é importante garantir que todas as features estejam balanceadas entre conjunto de treinamento e teste. Sendo assim, pode ser necessário dropar algumas linhas, ou mesmo colunas de features. "
   ]
  },
  {
   "cell_type": "markdown",
   "metadata": {},
   "source": [
    "A primeira estapa será a retirada de algumas features. Criamos uma lista com features que apresentavam desbalanceamento expressivo e seriam nocivas ao modelo ou teriam pouca influência. Abaixo é apresentada essa listagem das features com os respectivos plots. "
   ]
  },
  {
   "cell_type": "code",
   "execution_count": 814,
   "metadata": {},
   "outputs": [
    {
     "name": "stdout",
     "output_type": "stream",
     "text": [
      "                  count       mean         std  min  25%  50%  75%      max\n",
      "Misc.Val         2877.0  51.354536  571.419703  0.0  0.0  0.0  0.0  17000.0\n",
      "Pool.Area        2877.0   2.284672   35.922368  0.0  0.0  0.0  0.0    800.0\n",
      "Screen.Porch     2877.0  16.262426   56.539120  0.0  0.0  0.0  0.0    576.0\n",
      "X3Ssn.Porch      2877.0   2.610358   25.321811  0.0  0.0  0.0  0.0    508.0\n",
      "X3Ssn.Porch      2877.0   2.610358   25.321811  0.0  0.0  0.0  0.0    508.0\n",
      "Enclosed.Porch   2877.0  22.634341   63.912202  0.0  0.0  0.0  0.0   1012.0\n",
      "BsmtFin.SF.2     2877.0  50.076121  169.983156  0.0  0.0  0.0  0.0   1526.0\n",
      "Low.Qual.Fin.SF  2877.0   4.584637   45.759563  0.0  0.0  0.0  0.0   1064.0\n"
     ]
    },
    {
     "data": {
      "image/png": "[encoded data removed]",
      "text/plain": [
       "<Figure size 640x480 with 1 Axes>"
      ]
     },
     "metadata": {},
     "output_type": "display_data"
    },
    {
     "data": {
      "image/png": "[encoded data removed]",
      "text/plain": [
       "<Figure size 640x480 with 1 Axes>"
      ]
     },
     "metadata": {},
     "output_type": "display_data"
    },
    {
     "data": {
      "image/png": "[encoded data removed]",
      "text/plain": [
       "<Figure size 640x480 with 1 Axes>"
      ]
     },
     "metadata": {},
     "output_type": "display_data"
    },
    {
     "data": {
      "image/png": "[encoded data removed]",
      "text/plain": [
       "<Figure size 640x480 with 1 Axes>"
      ]
     },
     "metadata": {},
     "output_type": "display_data"
    },
    {
     "data": {
      "image/png": "[encoded data removed]",
      "text/plain": [
       "<Figure size 640x480 with 1 Axes>"
      ]
     },
     "metadata": {},
     "output_type": "display_data"
    },
    {
     "data": {
      "image/png": "[encoded data removed]",
      "text/plain": [
       "<Figure size 640x480 with 1 Axes>"
      ]
     },
     "metadata": {},
     "output_type": "display_data"
    },
    {
     "data": {
      "image/png": "[encoded data removed]",
      "text/plain": [
       "<Figure size 640x480 with 1 Axes>"
      ]
     },
     "metadata": {},
     "output_type": "display_data"
    },
    {
     "data": {
      "image/png": "[encoded data removed]",
      "text/plain": [
       "<Figure size 640x480 with 1 Axes>"
      ]
     },
     "metadata": {},
     "output_type": "display_data"
    }
   ],
   "source": [
    "remover  = ['Misc.Val', 'Pool.Area', 'Screen.Porch', 'X3Ssn.Porch', 'X3Ssn.Porch', 'Enclosed.Porch','BsmtFin.SF.2','Low.Qual.Fin.SF']\n",
    "plot_numericals(model_data, remover)"
   ]
  },
  {
   "cell_type": "markdown",
   "metadata": {},
   "source": [
    "Seguimos com a deleção dessas colunas"
   ]
  },
  {
   "cell_type": "code",
   "execution_count": null,
   "metadata": {},
   "outputs": [],
   "source": [
    "model_data.drop(columns=remover, inplace=True)"
   ]
  },
  {
   "cell_type": "markdown",
   "metadata": {},
   "source": [
    "Em seguida, foi separado um segundo conjunto de colunas, com dados desbalanceados"
   ]
  },
  {
   "cell_type": "code",
   "execution_count": 815,
   "metadata": {},
   "outputs": [
    {
     "name": "stdout",
     "output_type": "stream",
     "text": [
      "              count      mean       std  min  25%  50%  75%  max\n",
      "Functional   2877.0  0.151199  0.646276  0.0  0.0  0.0  0.0  7.0\n",
      "Paved.Drive  2877.0  0.157108  0.517761  0.0  0.0  0.0  0.0  2.0\n",
      "Land.Slope   2877.0  0.052138  0.246096  0.0  0.0  0.0  0.0  2.0\n",
      "Lot.Shape    2877.0  0.403198  0.571790  0.0  0.0  0.0  1.0  3.0\n",
      "Exter.Cond   2877.0  1.911366  0.366542  0.0  2.0  2.0  2.0  4.0\n",
      "Electrical   2877.0  0.104275  0.380650  0.0  0.0  0.0  0.0  4.0\n"
     ]
    },
    {
     "data": {
      "image/png": "[encoded data removed]",
      "text/plain": [
       "<Figure size 640x480 with 1 Axes>"
      ]
     },
     "metadata": {},
     "output_type": "display_data"
    },
    {
     "data": {
      "image/png": "[encoded data removed]",
      "text/plain": [
       "<Figure size 640x480 with 1 Axes>"
      ]
     },
     "metadata": {},
     "output_type": "display_data"
    },
    {
     "data": {
      "image/png": "[encoded data removed]",
      "text/plain": [
       "<Figure size 640x480 with 1 Axes>"
      ]
     },
     "metadata": {},
     "output_type": "display_data"
    },
    {
     "data": {
      "image/png": "[encoded data removed]",
      "text/plain": [
       "<Figure size 640x480 with 1 Axes>"
      ]
     },
     "metadata": {},
     "output_type": "display_data"
    },
    {
     "data": {
      "image/png": "[encoded data removed]",
      "text/plain": [
       "<Figure size 640x480 with 1 Axes>"
      ]
     },
     "metadata": {},
     "output_type": "display_data"
    },
    {
     "data": {
      "image/png": "[encoded data removed]",
      "text/plain": [
       "<Figure size 640x480 with 1 Axes>"
      ]
     },
     "metadata": {},
     "output_type": "display_data"
    }
   ],
   "source": [
    "na_duvida = [ \"Functional\", \"Paved.Drive\", \"Land.Slope\", \"Lot.Shape\",  \"Exter.Cond\", \"Electrical\"] ## 'X2nd.Flr.SF', \"Bsmt.Half.Bath\"\n",
    "plot_numericals(model_data, na_duvida)"
   ]
  },
  {
   "cell_type": "code",
   "execution_count": null,
   "metadata": {},
   "outputs": [],
   "source": [
    "# for cat in categorical_columns:\n",
    "#     dummies = []\n",
    "#     for col in model_data.columns:\n",
    "#         if col.startswith(cat + \"_\"):\n",
    "#             dummies.append(f'\"{col}\"')\n",
    "#     dummies_str = ', '.join(dummies)\n",
    "#     print(f'From column \"{cat}\" we made {dummies_str}\\n')"
   ]
  },
  {
   "cell_type": "markdown",
   "metadata": {},
   "source": [
    "##### Acima, removemos algumas features do dataset, pois achamos que os dados pra essas features estão bastante desbalanceada e, que aliás disso, não tem uma grande relevância para definir o preço de uma casa. Com base nisso, tiramo-as do dataset."
   ]
  },
  {
   "cell_type": "markdown",
   "metadata": {},
   "source": [
    "##### Abaixo, fizemos também a aplicação do log em algumas feautures pelos seguintes motivos:\n",
    "Aplicar o log nessas features pode ajudar a reduzir a escala das variáveis, tornando os dados mais próximos de uma distribuição normal.\n",
    "\n",
    "Estabilização de Variância: Quando os dados têm uma variação desigual, aplicar o log pode ajudar a estabilizar a variância, tornando os erros mais uniformes em diferentes níveis das features.\n",
    "\n",
    "O log tende a reduzir o impacto de outliers, tornando o modelo menos sensível a valores extremos, o que pode"
   ]
  },
  {
   "cell_type": "markdown",
   "metadata": {},
   "source": [
    "Na feature Gr.Liv.Area dropamos os valores acima de 3500, pois esses eram considerados outliers."
   ]
  },
  {
   "cell_type": "code",
   "execution_count": null,
   "metadata": {},
   "outputs": [],
   "source": [
    "\n",
    "aplicar_log = [\"Wood.Deck.SF\", \"Open.Porch.SF\", \"Garage.Age\", \"Remod.Age\", \"Mas.Vnr.Area\", \"Bsmt.Unf.SF\", \"BsmtFin.SF.1\", \"House.Age\"] ## \n",
    "juntar = [\"Exter.Qual\"]\n",
    "\n",
    "# dropar_a_partir_de_3000 = [\"Total.Bsmt.SF\", \"X1st.Flr.SF\", ]\n",
    "drop_3500 = [\"Gr.Liv.Area\"]\n",
    "\n"
   ]
  },
  {
   "cell_type": "code",
   "execution_count": null,
   "metadata": {},
   "outputs": [],
   "source": [
    "# plot_numericals(model_data, remover)"
   ]
  },
  {
   "cell_type": "code",
   "execution_count": null,
   "metadata": {},
   "outputs": [],
   "source": [
    "model_data = model_data.loc[model_data[\"Gr.Liv.Area\"] < 3500]"
   ]
  },
  {
   "cell_type": "markdown",
   "metadata": {},
   "source": [
    "Pra reduzir a dimensionalidade e não perder informações, colocamos uma nova features chamada TotalSF, que representa o total de metros quadrado do primeiro andar, segundo andar e do porão. Achamos melhor fazer assim, pois uma feature que diz quanto metros quadrado tem dentro de uma casa é melhor que apenas dizer quantos metros quadrados tem as suas partes. Removemos as features 'Total.Bsmt.SF', 'X2nd.Flr.SF','X1st.Flr.SF'. Removendo as features 'Total.Bsmt.SF', 'X2nd.Flr.SF','X1st.Flr.SF' conseguimos uma melhora no treinamento em relação ao deixar as features 'Total.Bsmt.SF', 'X2nd.Flr.SF','X1st.Flr.SF' no dataset. Essa melhora foi de 0.1%."
   ]
  },
  {
   "cell_type": "code",
   "execution_count": null,
   "metadata": {},
   "outputs": [],
   "source": [
    "model_data['TotalSF'] = model_data['X1st.Flr.SF'] + model_data['X2nd.Flr.SF'] + model_data['Total.Bsmt.SF']\n",
    "# model_data[\"TotalSF\"] = model_data[\"TotalSF\"].apply(np.log1p)\n",
    "# model_data.drop([\"X1st.Flr.SF\", \"X2nd.Flr.SF\", \"Total.Bsmt.SF\"], axis=1, inplace=True)\n",
    "# Total de Banheiros\n"
   ]
  },
  {
   "cell_type": "markdown",
   "metadata": {},
   "source": [
    "Abaixo fizemos algo semelhante pros banheiros da casa: criamos uma nova feature TotalBath que representa a quantidade de banheiros na casa. Mantemos as features 'Full.Bath','Half.Bath', 'Bsmt.Full.Bath'e 'Bsmt.Half.Bath' porque tivemos uma melhora de 0.2% no modelo em relação ao modelos que não as tinha. Isso é justificável por quê  as features que representam a quantidade de banheiros podem conter informações relevantes para o modelo que não estão presentes na feature que representa o total de banheiros. Cada tipo de banheiro  pode influenciar o preço da casa de maneira diferente.\n",
    "\n",
    "Quando você remove as features individuais que representam os diferentes tipos de banheiros, você está perdendo informações detalhadas. Dependendo do conjunto de dados, essa informação detalhada pode ser importante para prever com precisão o preço da casa.\n",
    "\n",
    "Também a transformação de somar as features para obter o total não é necessariamente uma transformação monotônica. Isso significa que a relação entre o total de banheiros e o preço da casa pode não ser linear. Manter as features originais permite que o modelo capture relações não lineares.\n"
   ]
  },
  {
   "cell_type": "code",
   "execution_count": null,
   "metadata": {},
   "outputs": [],
   "source": [
    "model_data['TotalBath'] = model_data['Full.Bath'] + model_data['Half.Bath'] + model_data['Bsmt.Full.Bath'] +  model_data['Bsmt.Half.Bath']\n"
   ]
  },
  {
   "cell_type": "code",
   "execution_count": null,
   "metadata": {},
   "outputs": [],
   "source": [
    "model_data.drop(['Total.Bsmt.SF', 'X2nd.Flr.SF','X1st.Flr.SF'], axis=1, inplace=True)"
   ]
  },
  {
   "cell_type": "code",
   "execution_count": null,
   "metadata": {},
   "outputs": [],
   "source": [
    "# plot_numericals(model_data, [\"TotalSF\"])"
   ]
  },
  {
   "cell_type": "code",
   "execution_count": null,
   "metadata": {},
   "outputs": [],
   "source": [
    "model_data.drop(remover, axis=1, inplace=True)\n",
    "# model_data.drop(na_duvida, axis=1, inplace=True)\n",
    "model_data[aplicar_log] = model_data[aplicar_log].apply(np.log1p)"
   ]
  },
  {
   "cell_type": "code",
   "execution_count": null,
   "metadata": {},
   "outputs": [],
   "source": [
    "X = model_data.drop(columns=['SalePrice']).copy()\n",
    "y = model_data['SalePrice'].copy()"
   ]
  },
  {
   "cell_type": "code",
   "execution_count": null,
   "metadata": {},
   "outputs": [],
   "source": [
    "from sklearn.model_selection import train_test_split\n",
    "RANDOM_SEED = 42  # Any number here, really.\n",
    "Xtrain, Xtest, ytrain, ytest = train_test_split(\n",
    "    X,\n",
    "    y,\n",
    "    test_size=0.25,\n",
    "    random_state=RANDOM_SEED,\n",
    ")\n"
   ]
  },
  {
   "cell_type": "code",
   "execution_count": null,
   "metadata": {},
   "outputs": [],
   "source": [
    "from sklearn.metrics import mean_squared_error\n",
    "from sklearn.pipeline import Pipeline\n",
    "from sklearn.preprocessing import StandardScaler, PolynomialFeatures\n",
    "from sklearn.linear_model import LinearRegression, ElasticNet, Lasso, Ridge\n",
    "from sklearn.model_selection import RandomizedSearchCV\n"
   ]
  },
  {
   "cell_type": "code",
   "execution_count": null,
   "metadata": {},
   "outputs": [],
   "source": [
    "# Best Parameters: {'model__tol': 0.01, 'model__max_iter': 1000, 'model__l1_ratio': 0.48275862068965514, 'model__alpha': 0.004520353656360241}\n",
    "\n",
    "# Crie um novo pipeline com o melhor estimador\n",
    "new_pipeline = Pipeline([\n",
    "    ('scaler', StandardScaler()),\n",
    "    ('poly_features', PolynomialFeatures(degree=2)),\n",
    "    ('elastic_net', ElasticNet(alpha=0.01, l1_ratio=0.1))\n",
    "])\n",
    "\n",
    "# Fit the pipeline to the training data\n",
    "new_pipeline.fit(Xtrain, ytrain)\n",
    "\n",
    "# Faça previsões usando o novo pipeline\n",
    "ypred = new_pipeline.predict(Xtest)\n"
   ]
  },
  {
   "cell_type": "code",
   "execution_count": null,
   "metadata": {},
   "outputs": [],
   "source": [
    "coeficientes = new_pipeline.named_steps['elastic_net'].coef_"
   ]
  },
  {
   "cell_type": "code",
   "execution_count": null,
   "metadata": {},
   "outputs": [],
   "source": [
    "print(list(coeficientes))\n",
    "maior = 0\n",
    "indice = 0\n",
    "for i, v in enumerate(list(coeficientes)):\n",
    "    if abs(v) > abs(maior):\n",
    "        maior  = v\n",
    "        indice = i\n",
    "print(indice, maior)\n",
    "model_data.columns[indice]\n",
    "\n",
    "    "
   ]
  },
  {
   "cell_type": "code",
   "execution_count": null,
   "metadata": {},
   "outputs": [],
   "source": [
    "rmse = np.sqrt(mean_squared_error(ytest, ypred))\n",
    "print(f\"Root Mean Squared Error (MSE): {rmse}\")\n"
   ]
  },
  {
   "cell_type": "code",
   "execution_count": null,
   "metadata": {},
   "outputs": [],
   "source": [
    "error_percent = 100 * (10**rmse - 1)\n",
    "print(f'Average error is {error_percent:.2f}%')"
   ]
  },
  {
   "cell_type": "code",
   "execution_count": null,
   "metadata": {},
   "outputs": [],
   "source": []
  }
 ],
 "metadata": {
  "kernelspec": {
   "display_name": "ames",
   "language": "python",
   "name": "python3"
  },
  "language_info": {
   "codemirror_mode": {
    "name": "ipython",
    "version": 3
   },
   "file_extension": ".py",
   "mimetype": "text/x-python",
   "name": "python",
   "nbconvert_exporter": "python",
   "pygments_lexer": "ipython3",
   "version": "3.10.12"
  },
  "orig_nbformat": 4,
  "vscode": {
   "interpreter": {
    "hash": "dbd4e51fa3f3bf2a2317a230e3ac8d5fc66f1a44e44c3383f6bf669b9d199507"
   }
  }
 },
 "nbformat": 4,
 "nbformat_minor": 2
}
